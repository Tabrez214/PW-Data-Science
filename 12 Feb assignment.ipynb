{
 "cells": [
  {
   "cell_type": "code",
   "execution_count": null,
   "id": "8f2093be-30c7-4774-a9d4-bc428a69784b",
   "metadata": {},
   "outputs": [],
   "source": [
    "Q1. What is an Exception in python? Write the difference between Exceptions and syntax errors"
   ]
  },
  {
   "cell_type": "code",
   "execution_count": null,
   "id": "2410a8c6-42bf-4874-848a-a8193815e6b0",
   "metadata": {},
   "outputs": [],
   "source": [
    "An exception is a runtime error that occurs during program execution, while a syntax error is a mistake in the code that prevents the interpreter from being able to parse and execute it. \n",
    "Exceptions are handled by an appropriate exception handler, while syntax errors must be fixed before the program can run."
   ]
  },
  {
   "cell_type": "code",
   "execution_count": null,
   "id": "1eb73322-f957-460e-9d88-8bcbd86a8fc5",
   "metadata": {},
   "outputs": [],
   "source": []
  },
  {
   "cell_type": "code",
   "execution_count": null,
   "id": "ec4cd374-0655-4e90-8573-16bd289dd871",
   "metadata": {},
   "outputs": [],
   "source": [
    "Q2. What happens when an exception is not handled? Explain with an example"
   ]
  },
  {
   "cell_type": "code",
   "execution_count": null,
   "id": "a6b9a64e-1334-4f77-aa8e-c1a065710104",
   "metadata": {},
   "outputs": [],
   "source": [
    "When an exception is not handled, the program will terminate and an error message will be displayed that indicates \n",
    "the type of exception that occurred and the location in the code where it occurred. Like file not found error."
   ]
  },
  {
   "cell_type": "code",
   "execution_count": 1,
   "id": "fb93a327-e765-47e2-bac1-511f88eae2dc",
   "metadata": {},
   "outputs": [
    {
     "ename": "FileNotFoundError",
     "evalue": "[Errno 2] No such file or directory: 'Test.txt'",
     "output_type": "error",
     "traceback": [
      "\u001b[0;31m---------------------------------------------------------------------------\u001b[0m",
      "\u001b[0;31mFileNotFoundError\u001b[0m                         Traceback (most recent call last)",
      "Cell \u001b[0;32mIn[1], line 1\u001b[0m\n\u001b[0;32m----> 1\u001b[0m f \u001b[38;5;241m=\u001b[39m \u001b[38;5;28;43mopen\u001b[39;49m\u001b[43m(\u001b[49m\u001b[38;5;124;43m\"\u001b[39;49m\u001b[38;5;124;43mTest.txt\u001b[39;49m\u001b[38;5;124;43m\"\u001b[39;49m\u001b[43m,\u001b[49m\u001b[43m \u001b[49m\u001b[38;5;124;43m'\u001b[39;49m\u001b[38;5;124;43mr\u001b[39;49m\u001b[38;5;124;43m'\u001b[39;49m\u001b[43m)\u001b[49m\n\u001b[1;32m      2\u001b[0m \u001b[38;5;28mprint\u001b[39m(\u001b[38;5;124m\"\u001b[39m\u001b[38;5;124mThis is print\u001b[39m\u001b[38;5;124m\"\u001b[39m)\n",
      "File \u001b[0;32m/opt/conda/lib/python3.10/site-packages/IPython/core/interactiveshell.py:282\u001b[0m, in \u001b[0;36m_modified_open\u001b[0;34m(file, *args, **kwargs)\u001b[0m\n\u001b[1;32m    275\u001b[0m \u001b[38;5;28;01mif\u001b[39;00m file \u001b[38;5;129;01min\u001b[39;00m {\u001b[38;5;241m0\u001b[39m, \u001b[38;5;241m1\u001b[39m, \u001b[38;5;241m2\u001b[39m}:\n\u001b[1;32m    276\u001b[0m     \u001b[38;5;28;01mraise\u001b[39;00m \u001b[38;5;167;01mValueError\u001b[39;00m(\n\u001b[1;32m    277\u001b[0m         \u001b[38;5;124mf\u001b[39m\u001b[38;5;124m\"\u001b[39m\u001b[38;5;124mIPython won\u001b[39m\u001b[38;5;124m'\u001b[39m\u001b[38;5;124mt let you open fd=\u001b[39m\u001b[38;5;132;01m{\u001b[39;00mfile\u001b[38;5;132;01m}\u001b[39;00m\u001b[38;5;124m by default \u001b[39m\u001b[38;5;124m\"\u001b[39m\n\u001b[1;32m    278\u001b[0m         \u001b[38;5;124m\"\u001b[39m\u001b[38;5;124mas it is likely to crash IPython. If you know what you are doing, \u001b[39m\u001b[38;5;124m\"\u001b[39m\n\u001b[1;32m    279\u001b[0m         \u001b[38;5;124m\"\u001b[39m\u001b[38;5;124myou can use builtins\u001b[39m\u001b[38;5;124m'\u001b[39m\u001b[38;5;124m open.\u001b[39m\u001b[38;5;124m\"\u001b[39m\n\u001b[1;32m    280\u001b[0m     )\n\u001b[0;32m--> 282\u001b[0m \u001b[38;5;28;01mreturn\u001b[39;00m \u001b[43mio_open\u001b[49m\u001b[43m(\u001b[49m\u001b[43mfile\u001b[49m\u001b[43m,\u001b[49m\u001b[43m \u001b[49m\u001b[38;5;241;43m*\u001b[39;49m\u001b[43margs\u001b[49m\u001b[43m,\u001b[49m\u001b[43m \u001b[49m\u001b[38;5;241;43m*\u001b[39;49m\u001b[38;5;241;43m*\u001b[39;49m\u001b[43mkwargs\u001b[49m\u001b[43m)\u001b[49m\n",
      "\u001b[0;31mFileNotFoundError\u001b[0m: [Errno 2] No such file or directory: 'Test.txt'"
     ]
    }
   ],
   "source": [
    "f = open(\"Test.txt\", 'r')\n",
    "print(\"This is print\")"
   ]
  },
  {
   "cell_type": "code",
   "execution_count": null,
   "id": "cc5d4b74-35db-4f35-86e7-389a1d65bb77",
   "metadata": {},
   "outputs": [],
   "source": []
  },
  {
   "cell_type": "code",
   "execution_count": null,
   "id": "ce07b92c-cf79-4244-80f2-bd7b17b48b51",
   "metadata": {},
   "outputs": [],
   "source": [
    "Q3. Which Python statements are used to catch and handle exceptions? Explain with an example"
   ]
  },
  {
   "cell_type": "code",
   "execution_count": null,
   "id": "a6765f07-9fb9-40d9-9aeb-db4485ddee19",
   "metadata": {},
   "outputs": [],
   "source": [
    "The try and except statements are used to catch and handle exceptions. \n",
    "The try block contains the code that might raise an exception, while the except block contains the code that will handle the exception if it occurs.\n",
    "An example given below:"
   ]
  },
  {
   "cell_type": "code",
   "execution_count": null,
   "id": "e3f78339-c048-4e3b-b2f6-3f0fef2df4b4",
   "metadata": {},
   "outputs": [],
   "source": [
    "try:\n",
    "    f = open(\"Test.txt\", 'r')\n",
    "except Exception as e:\n",
    "    print(\"There is some issue with my code\", e)\n",
    "print(\"This is print\")\n",
    "a = 11\n",
    "a"
   ]
  },
  {
   "cell_type": "code",
   "execution_count": null,
   "id": "8ac32b0c-0020-4ef0-8f2d-3ced0c409070",
   "metadata": {},
   "outputs": [],
   "source": []
  },
  {
   "cell_type": "code",
   "execution_count": null,
   "id": "6e905150-9524-4201-bd2b-1af6f97b4b29",
   "metadata": {},
   "outputs": [],
   "source": [
    "Q4. Explain with an example: \n",
    "a) try and else \n",
    "b) finally \n",
    "c) raise"
   ]
  },
  {
   "cell_type": "code",
   "execution_count": null,
   "id": "e3c04d65-bbf5-4a52-afdb-b63f1d6ed228",
   "metadata": {},
   "outputs": [],
   "source": [
    "a) The try and else statements are used together in to execute a block of code if no exceptions are raised in the try block."
   ]
  },
  {
   "cell_type": "code",
   "execution_count": null,
   "id": "639c8be8-70ec-4430-a3a0-0e1b642369e7",
   "metadata": {},
   "outputs": [],
   "source": [
    "try:\n",
    "    num = int(input(\"Enter a number: \"))\n",
    "except ValueError:\n",
    "    print(\"Invalid input\")\n",
    "else:\n",
    "    print(\"You entered:\", num)"
   ]
  },
  {
   "cell_type": "code",
   "execution_count": null,
   "id": "807a7264-6643-48eb-b331-457607e05e68",
   "metadata": {},
   "outputs": [],
   "source": [
    "b) Finally key is to specify a block of code that will be executed regardless of whether an exception was raised or not."
   ]
  },
  {
   "cell_type": "code",
   "execution_count": 8,
   "id": "043528a8-42f8-4902-bb8b-162c38985eeb",
   "metadata": {},
   "outputs": [
    {
     "name": "stdout",
     "output_type": "stream",
     "text": [
      "Something\n"
     ]
    },
    {
     "ename": "FileNotFoundError",
     "evalue": "[Errno 2] No such file or directory: 'file.txt'",
     "output_type": "error",
     "traceback": [
      "\u001b[0;31m---------------------------------------------------------------------------\u001b[0m",
      "\u001b[0;31mFileNotFoundError\u001b[0m                         Traceback (most recent call last)",
      "Cell \u001b[0;32mIn[8], line 2\u001b[0m\n\u001b[1;32m      1\u001b[0m \u001b[38;5;28;01mtry\u001b[39;00m:\n\u001b[0;32m----> 2\u001b[0m     f \u001b[38;5;241m=\u001b[39m \u001b[38;5;28;43mopen\u001b[39;49m\u001b[43m(\u001b[49m\u001b[38;5;124;43m\"\u001b[39;49m\u001b[38;5;124;43mfile.txt\u001b[39;49m\u001b[38;5;124;43m\"\u001b[39;49m\u001b[43m,\u001b[49m\u001b[38;5;124;43m'\u001b[39;49m\u001b[38;5;124;43mr\u001b[39;49m\u001b[38;5;124;43m'\u001b[39;49m\u001b[43m)\u001b[49m\n\u001b[1;32m      3\u001b[0m \u001b[38;5;28;01mfinally\u001b[39;00m:\n\u001b[1;32m      4\u001b[0m     \u001b[38;5;28mprint\u001b[39m(\u001b[38;5;124m\"\u001b[39m\u001b[38;5;124mSomething\u001b[39m\u001b[38;5;124m\"\u001b[39m)\n",
      "File \u001b[0;32m/opt/conda/lib/python3.10/site-packages/IPython/core/interactiveshell.py:282\u001b[0m, in \u001b[0;36m_modified_open\u001b[0;34m(file, *args, **kwargs)\u001b[0m\n\u001b[1;32m    275\u001b[0m \u001b[38;5;28;01mif\u001b[39;00m file \u001b[38;5;129;01min\u001b[39;00m {\u001b[38;5;241m0\u001b[39m, \u001b[38;5;241m1\u001b[39m, \u001b[38;5;241m2\u001b[39m}:\n\u001b[1;32m    276\u001b[0m     \u001b[38;5;28;01mraise\u001b[39;00m \u001b[38;5;167;01mValueError\u001b[39;00m(\n\u001b[1;32m    277\u001b[0m         \u001b[38;5;124mf\u001b[39m\u001b[38;5;124m\"\u001b[39m\u001b[38;5;124mIPython won\u001b[39m\u001b[38;5;124m'\u001b[39m\u001b[38;5;124mt let you open fd=\u001b[39m\u001b[38;5;132;01m{\u001b[39;00mfile\u001b[38;5;132;01m}\u001b[39;00m\u001b[38;5;124m by default \u001b[39m\u001b[38;5;124m\"\u001b[39m\n\u001b[1;32m    278\u001b[0m         \u001b[38;5;124m\"\u001b[39m\u001b[38;5;124mas it is likely to crash IPython. If you know what you are doing, \u001b[39m\u001b[38;5;124m\"\u001b[39m\n\u001b[1;32m    279\u001b[0m         \u001b[38;5;124m\"\u001b[39m\u001b[38;5;124myou can use builtins\u001b[39m\u001b[38;5;124m'\u001b[39m\u001b[38;5;124m open.\u001b[39m\u001b[38;5;124m\"\u001b[39m\n\u001b[1;32m    280\u001b[0m     )\n\u001b[0;32m--> 282\u001b[0m \u001b[38;5;28;01mreturn\u001b[39;00m \u001b[43mio_open\u001b[49m\u001b[43m(\u001b[49m\u001b[43mfile\u001b[49m\u001b[43m,\u001b[49m\u001b[43m \u001b[49m\u001b[38;5;241;43m*\u001b[39;49m\u001b[43margs\u001b[49m\u001b[43m,\u001b[49m\u001b[43m \u001b[49m\u001b[38;5;241;43m*\u001b[39;49m\u001b[38;5;241;43m*\u001b[39;49m\u001b[43mkwargs\u001b[49m\u001b[43m)\u001b[49m\n",
      "\u001b[0;31mFileNotFoundError\u001b[0m: [Errno 2] No such file or directory: 'file.txt'"
     ]
    }
   ],
   "source": [
    "try:\n",
    "    f = open(\"file.txt\",'r')\n",
    "finally:\n",
    "    print(\"Something\")\n"
   ]
  },
  {
   "cell_type": "code",
   "execution_count": null,
   "id": "cc9e8770-3aa0-45bb-84ac-c3164cf33592",
   "metadata": {},
   "outputs": [],
   "source": [
    "c) The raise statement is used in Python to raise an exception when a certain condition is met."
   ]
  },
  {
   "cell_type": "code",
   "execution_count": 9,
   "id": "a0b4c2fd-ab79-44f3-adeb-a4786972afa4",
   "metadata": {},
   "outputs": [],
   "source": [
    "class validateage(Exception):\n",
    "    def __init__(self, msg):\n",
    "        self.msg = msg\n",
    "                 "
   ]
  },
  {
   "cell_type": "code",
   "execution_count": 10,
   "id": "340654f7-e7bc-40d4-a8c7-fab890949d7f",
   "metadata": {},
   "outputs": [],
   "source": [
    "def validate_age(age):\n",
    "    if age < 0 :\n",
    "        raise validateage(\"Enter a valid date\")\n",
    "    elif age > 125:\n",
    "        raise validateage(\"Age is too high\")\n",
    "    else :\n",
    "        print(\"Your age is {}\".format(age))"
   ]
  },
  {
   "cell_type": "code",
   "execution_count": 11,
   "id": "faff1318-45ef-442a-aafe-c0eaa294cd5e",
   "metadata": {},
   "outputs": [
    {
     "name": "stdin",
     "output_type": "stream",
     "text": [
      "Enter your age -20\n"
     ]
    },
    {
     "name": "stdout",
     "output_type": "stream",
     "text": [
      "Enter a valid date\n"
     ]
    }
   ],
   "source": [
    "try :\n",
    "    age  = int(input(\"Enter your age\"))\n",
    "    validate_age(age)\n",
    "except validateage as e:\n",
    "    print(e)\n",
    "    "
   ]
  },
  {
   "cell_type": "code",
   "execution_count": null,
   "id": "15f28f01-1f77-44a6-ab53-b57910352004",
   "metadata": {},
   "outputs": [],
   "source": []
  },
  {
   "cell_type": "code",
   "execution_count": null,
   "id": "6f62ccc0-3114-4064-8ce9-9e204cdb27d9",
   "metadata": {},
   "outputs": [],
   "source": [
    "Q5. What are Custom Exceptions in python? Why do we need Custom Exceptions? Explain with an example"
   ]
  },
  {
   "cell_type": "code",
   "execution_count": null,
   "id": "c4bf0131-3728-4622-98bf-dea6528356dc",
   "metadata": {},
   "outputs": [],
   "source": [
    "Custom exceptions in Python are user-defined exceptions that can be raised in a program when a specific condition is met. \n",
    "They are created by deriving a new class from the built-in Exception class or one of its subclasses."
   ]
  },
  {
   "cell_type": "code",
   "execution_count": 12,
   "id": "61405b44-9624-48cc-81c4-b78fdbb350cc",
   "metadata": {},
   "outputs": [
    {
     "name": "stdout",
     "output_type": "stream",
     "text": [
      "Cannot get first item from an empty list\n"
     ]
    }
   ],
   "source": [
    "class EmptyListError(Exception):\n",
    "    pass\n",
    "\n",
    "def get_first_item(my_list):\n",
    "    if not my_list:\n",
    "        raise EmptyListError(\"Cannot get first item from an empty list\")\n",
    "    return my_list[0]\n",
    "\n",
    "my_list = []\n",
    "try:\n",
    "    first_item = get_first_item(my_list)\n",
    "except EmptyListError as e:\n",
    "    print(e)\n",
    "else:\n",
    "    print(\"First item:\", first_item)"
   ]
  },
  {
   "cell_type": "code",
   "execution_count": null,
   "id": "bb6fb533-7dc7-4bd9-bff9-c21a75345443",
   "metadata": {},
   "outputs": [],
   "source": []
  },
  {
   "cell_type": "code",
   "execution_count": null,
   "id": "6497b653-6950-4780-8b66-ecf5f0ea60c1",
   "metadata": {},
   "outputs": [],
   "source": [
    "Q6. Create custom exception class. Use this class to handle an exception."
   ]
  },
  {
   "cell_type": "code",
   "execution_count": 13,
   "id": "6cead8aa-229b-4da4-9b77-59e2c403f063",
   "metadata": {},
   "outputs": [],
   "source": [
    "class validateage(Exception):\n",
    "    def __init__(self, msg):\n",
    "        self.msg = msg\n",
    "                 "
   ]
  },
  {
   "cell_type": "code",
   "execution_count": 14,
   "id": "387a54e2-e78e-46c4-8245-2b8de51ac0c4",
   "metadata": {},
   "outputs": [],
   "source": [
    "def validate_age(age):\n",
    "    if age < 0 :\n",
    "        raise validateage(\"Enter a valid date\")\n",
    "    elif age > 125:\n",
    "        raise validateage(\"Age is too high\")\n",
    "    else :\n",
    "        print(\"Your age is {}\".format(age))"
   ]
  },
  {
   "cell_type": "code",
   "execution_count": 15,
   "id": "c6be9ee0-d33a-44e8-983f-8618caffc84d",
   "metadata": {},
   "outputs": [
    {
     "name": "stdin",
     "output_type": "stream",
     "text": [
      "Enter your age 25\n"
     ]
    },
    {
     "name": "stdout",
     "output_type": "stream",
     "text": [
      "Your age is 25\n"
     ]
    }
   ],
   "source": [
    "try :\n",
    "    age  = int(input(\"Enter your age\"))\n",
    "    validate_age(age)\n",
    "except validateage as e:\n",
    "    print(e)\n",
    "    "
   ]
  },
  {
   "cell_type": "code",
   "execution_count": null,
   "id": "0a092810-1aa5-4c0e-a513-d021d9781f85",
   "metadata": {},
   "outputs": [],
   "source": []
  }
 ],
 "metadata": {
  "kernelspec": {
   "display_name": "Python 3 (ipykernel)",
   "language": "python",
   "name": "python3"
  },
  "language_info": {
   "codemirror_mode": {
    "name": "ipython",
    "version": 3
   },
   "file_extension": ".py",
   "mimetype": "text/x-python",
   "name": "python",
   "nbconvert_exporter": "python",
   "pygments_lexer": "ipython3",
   "version": "3.10.8"
  }
 },
 "nbformat": 4,
 "nbformat_minor": 5
}
