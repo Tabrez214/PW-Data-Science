{
 "cells": [
  {
   "cell_type": "code",
   "execution_count": null,
   "id": "ab6b3da0-fef6-401e-99e2-349e1fdb8d05",
   "metadata": {},
   "outputs": [],
   "source": [
    "Q1. What is the Probability density function?"
   ]
  },
  {
   "cell_type": "code",
   "execution_count": null,
   "id": "c51e1972-90e8-47ad-851e-1c7dfc141275",
   "metadata": {},
   "outputs": [],
   "source": [
    "The Probability Density Function (PDF) describes the likelihood of a continuous random variable taking on a particular value or range of values. \n",
    "It is a way to describe the distribution of a random variable, such as the height of individuals in a population or the amount of rainfall in a region.\n",
    "\n",
    "The PDF is defined such that the area under the curve represents the probability of the random variable falling within a particular interval. \n",
    "The PDF is non-negative and integrates to one over its entire domain.\n",
    "\n",
    "For example, if we have a continuous random variable X with PDF f(x), then the probability of X being between a and b is given by the integral of f(x) from a to b:\n",
    "\n",
    "P(a < X < b) = ∫a^b f(x) dx"
   ]
  },
  {
   "cell_type": "code",
   "execution_count": null,
   "id": "16732cb8-3bbb-4287-bf21-73e5f3b9aac1",
   "metadata": {},
   "outputs": [],
   "source": []
  },
  {
   "cell_type": "code",
   "execution_count": null,
   "id": "31aedd33-2bcb-464f-afc9-da697c3e18ad",
   "metadata": {},
   "outputs": [],
   "source": [
    "Q2. What are the types of Probability distribution?"
   ]
  },
  {
   "cell_type": "code",
   "execution_count": null,
   "id": "d93d3a8e-e0fb-44c5-8b0d-eed2a9d5ba9f",
   "metadata": {},
   "outputs": [],
   "source": [
    "1. Normal/Gaussian distribution, it is a continuous distribution that is symmetric around its mean. \n",
    "It is often used to model random variables that are influenced by a large number of small, independent factors.\n",
    "\n",
    "2. Binomial distribution: This is a discrete distribution that describes the probability of a specific number of successes in a fixed number of independent trials. \n",
    "It is often used in situations where there are only two possible outcomes, such as heads or tails in a coin toss.\n",
    "\n",
    "3. Poisson distribution: This is a discrete distribution that describes the probability of a certain number of events occurring in a fixed interval of time or space. \n",
    "It is often used to model rare events that occur randomly over time or space.\n",
    "\n",
    "4. Uniform distribution: This is a continuous distribution where all outcomes are equally likely. \n",
    "It is often used to model situations where all possible outcomes are equally likely, such as rolling a fair dice."
   ]
  },
  {
   "cell_type": "code",
   "execution_count": null,
   "id": "ea8aeba9-742a-4e1d-aa7a-d3828a72a149",
   "metadata": {},
   "outputs": [],
   "source": []
  },
  {
   "cell_type": "code",
   "execution_count": null,
   "id": "d0ea36e6-e72d-4b2e-a86b-4d02d19c657d",
   "metadata": {},
   "outputs": [],
   "source": [
    "Q3. Write a Python function to calculate the probability density function of a normal distribution with\n",
    "given mean and standard deviation at a given point."
   ]
  },
  {
   "cell_type": "code",
   "execution_count": 1,
   "id": "adf8e5f0-8dbd-4a6c-b6d6-f039fda993bf",
   "metadata": {},
   "outputs": [],
   "source": [
    "import math\n",
    "\n",
    "def normal_pdf(x, mean, std_dev):\n",
    "    coeff = 1 / (std_dev * math.sqrt(2 * math.pi))\n",
    "    exponent = -((x - mean) ** 2) / (2 * (std_dev ** 2))\n",
    "    pdf = coeff * math.exp(exponent)\n",
    "    return pdf\n"
   ]
  },
  {
   "cell_type": "code",
   "execution_count": 2,
   "id": "76768605-2fc1-4135-aa26-bad91f6a46c8",
   "metadata": {},
   "outputs": [
    {
     "name": "stdout",
     "output_type": "stream",
     "text": [
      "0.05399096651318806\n"
     ]
    }
   ],
   "source": [
    "pdf = normal_pdf(2.0, 0.0, 1.0)\n",
    "print(pdf)"
   ]
  },
  {
   "cell_type": "code",
   "execution_count": null,
   "id": "319ad8b4-809c-4b51-9fe8-75dcad05f3dc",
   "metadata": {},
   "outputs": [],
   "source": []
  },
  {
   "cell_type": "code",
   "execution_count": null,
   "id": "28bf06f2-8a74-47ba-b37c-671045eacdba",
   "metadata": {},
   "outputs": [],
   "source": [
    "Q4. What are the properties of Binomial distribution? Give two examples of events where binomial distribution can be applied."
   ]
  },
  {
   "cell_type": "code",
   "execution_count": null,
   "id": "82d40781-c3a9-482e-a7dd-bc733bca7a04",
   "metadata": {},
   "outputs": [],
   "source": [
    "The binomial distribution is a discrete probability distribution that describes the number of successes in a fixed number of independent trials.\n",
    "\n",
    "The binomial distribution has two parameters: n, the number of trials, and p, the probability of success on each trial.\n",
    "\n",
    "The binomial distribution has a mean of np and a variance of np*(1-p).\n",
    "\n",
    "The binomial distribution is often used to model situations where there are only two possible outcomes on each trial, such as success or failure, heads or tails, or yes or no.\n",
    "\n",
    "Two examples of events where the binomial distribution can be applied are:\n",
    "\n",
    "Flipping a coin: Suppose we flip a fair coin 10 times and count the number of heads. Each flip is an independent trial with two possible outcomes (heads or tails),\n",
    "and the probability of getting a head on each trial is 0.5. This is a binomial distribution with n=10 and p=0.5.\n",
    "\n",
    "Quality control inspection: Suppose a factory produces light bulbs and each bulb has a 95% chance of passing quality control inspection.\n",
    "We randomly select 100 bulbs from the production line and count the number of bulbs that pass inspection.\n",
    "This is a binomial distribution with n=100 and p=0.95. \n",
    "We can use the binomial distribution to calculate the probability of getting a certain number of bulbs that pass inspection out of the 100 selected."
   ]
  },
  {
   "cell_type": "code",
   "execution_count": null,
   "id": "634fe2f3-ea05-43ff-92d3-9ba8867b3591",
   "metadata": {},
   "outputs": [],
   "source": []
  },
  {
   "cell_type": "code",
   "execution_count": null,
   "id": "ce1fe4b9-d4b7-42d1-a425-50e9f4212812",
   "metadata": {},
   "outputs": [],
   "source": [
    "Q5. Generate a random sample of size 1000 from a binomial distribution with probability of success 0.4 and plot a histogram of the results using matplotlib."
   ]
  },
  {
   "cell_type": "code",
   "execution_count": 3,
   "id": "5ce70650-0717-4459-b9d5-6a27b064a62e",
   "metadata": {},
   "outputs": [
    {
     "data": {
      "image/png": "[encoded data removed]",
      "text/plain": [
       "<Figure size 640x480 with 1 Axes>"
      ]
     },
     "metadata": {},
     "output_type": "display_data"
    }
   ],
   "source": [
    "import numpy as np\n",
    "import matplotlib.pyplot as plt\n",
    "\n",
    "n = 10\n",
    "p = 0.4\n",
    "\n",
    "sample = np.random.binomial(n, p, 1000)\n",
    "\n",
    "plt.hist(sample, bins='auto')\n",
    "plt.xlabel('Number of successes')\n",
    "plt.ylabel('Frequency')\n",
    "plt.title('Binomial Distribution with n=10, p=0.4')\n",
    "plt.show()\n"
   ]
  },
  {
   "cell_type": "code",
   "execution_count": null,
   "id": "2bdcc7aa-fee7-4a24-9908-08e69e7e6656",
   "metadata": {},
   "outputs": [],
   "source": []
  },
  {
   "cell_type": "code",
   "execution_count": null,
   "id": "98670ac7-e9e9-43d4-a740-d6f3b1131f78",
   "metadata": {},
   "outputs": [],
   "source": [
    "Q6. Write a Python function to calculate the cumulative distribution function of a Poisson distribution with given mean at a given point."
   ]
  },
  {
   "cell_type": "code",
   "execution_count": 1,
   "id": "bc859553-fb81-48cc-ac4e-d9860aaed329",
   "metadata": {},
   "outputs": [],
   "source": [
    "import math\n",
    "from scipy.stats import poisson\n",
    "\n",
    "def poisson_cdf(mean, point):\n",
    "    cdf = 0.0\n",
    "    for i in range(point+1):\n",
    "        cdf += poisson.pmf(i, mean)\n",
    "    return cdf\n"
   ]
  },
  {
   "cell_type": "code",
   "execution_count": 3,
   "id": "41d16bc2-f5eb-4ee3-9fd6-cb94d4778473",
   "metadata": {},
   "outputs": [
    {
     "data": {
      "text/plain": [
       "0.857123460498547"
      ]
     },
     "execution_count": 3,
     "metadata": {},
     "output_type": "execute_result"
    }
   ],
   "source": [
    "poisson_cdf(2, 3)\n",
    "0.857123460498547"
   ]
  },
  {
   "cell_type": "code",
   "execution_count": null,
   "id": "47cffa1f-88ae-4362-bbe4-4ab0dbd77da2",
   "metadata": {},
   "outputs": [],
   "source": []
  },
  {
   "cell_type": "code",
   "execution_count": null,
   "id": "df5baa28-2889-43d3-8901-a5c77dc5589b",
   "metadata": {},
   "outputs": [],
   "source": [
    "Q7. How Binomial distribution different from Poisson distribution?"
   ]
  },
  {
   "cell_type": "code",
   "execution_count": null,
   "id": "ed782562-655d-4eef-b037-2c28e7a379ca",
   "metadata": {},
   "outputs": [],
   "source": [
    "Binomial distribution is used when there are a fixed number of independent trials with two possible outcomes and we are interested in the number of successes,\n",
    "while Poisson distribution is used when we are interested in the number of occurrences of an event in a fixed interval of time or space,\n",
    "given that the events occur at a constant rate and independently of each other. The parameters used to define these distributions are also different, \n",
    "with binomial distribution using the number of trials and the probability of success in each trial, while Poisson distribution uses the mean number of events in a given interval."
   ]
  },
  {
   "cell_type": "code",
   "execution_count": null,
   "id": "8c168c07-5f47-4121-a3b7-357a3e2b74ca",
   "metadata": {},
   "outputs": [],
   "source": []
  },
  {
   "cell_type": "code",
   "execution_count": null,
   "id": "14d3dee9-b3c1-432b-a0f5-d1c811cb806c",
   "metadata": {},
   "outputs": [],
   "source": [
    "Q8. Generate a random sample of size 1000 from a Poisson distribution with mean 5 and calculate the sample mean and variance."
   ]
  },
  {
   "cell_type": "code",
   "execution_count": 4,
   "id": "598df663-9358-4098-a5a8-a2d5e8ac6ceb",
   "metadata": {},
   "outputs": [
    {
     "name": "stdout",
     "output_type": "stream",
     "text": [
      "Sample mean: 5.032\n",
      "Sample variance: 4.8169759999999995\n"
     ]
    }
   ],
   "source": [
    "import numpy as np\n",
    "\n",
    "sample = np.random.poisson(5, size=1000)\n",
    "\n",
    "sample_mean = np.mean(sample)\n",
    "sample_variance = np.var(sample)\n",
    "\n",
    "print(\"Sample mean:\", sample_mean)\n",
    "print(\"Sample variance:\", sample_variance)\n"
   ]
  },
  {
   "cell_type": "code",
   "execution_count": null,
   "id": "fb782043-1313-4823-8bdc-feba25cae4b6",
   "metadata": {},
   "outputs": [],
   "source": []
  },
  {
   "cell_type": "code",
   "execution_count": null,
   "id": "adcfc405-c105-4197-ac93-e43f0a26b5f9",
   "metadata": {},
   "outputs": [],
   "source": [
    "Q9. How mean and variance are related in Binomial distribution and Poisson distribution?"
   ]
  },
  {
   "cell_type": "code",
   "execution_count": null,
   "id": "a7b6bc7a-76a8-48c8-a2f6-36e6ae641564",
   "metadata": {},
   "outputs": [],
   "source": [
    "In both binomial and Poisson distributions, the mean and variance are related, but the nature of the relationship is different.\n",
    "\n",
    "In the binomial distribution, the mean and variance are related as follows:\n",
    "\n",
    "mean = n * p\n",
    "\n",
    "variance = n * p * (1 - p)\n",
    "\n",
    "where n is the number of trials, and p is the probability of success in each trial.\n",
    "We can see that the variance is directly proportional to both n and p, and inversely proportional to (1 - p). \n",
    "As p gets closer to 0 or 1, the variance decreases, and as p gets closer to 0.5, the variance increases.\n",
    "\n",
    "In the Poisson distribution, the mean and variance are related as follows:\n",
    "\n",
    "mean = variance = λ\n",
    "\n",
    "where λ is the mean number of events in a fixed interval. This means that the variance is equal to the square of the mean. \n",
    "In other words, if the mean is small, the variance is also small, and if the mean is large, the variance is also large."
   ]
  },
  {
   "cell_type": "code",
   "execution_count": null,
   "id": "3fccc6c0-743d-406e-ba9a-dd89763d422e",
   "metadata": {},
   "outputs": [],
   "source": []
  },
  {
   "cell_type": "code",
   "execution_count": null,
   "id": "69c35d45-1d77-48de-9987-063368412459",
   "metadata": {},
   "outputs": [],
   "source": [
    "Q10. In normal distribution with respect to mean position, where does the least frequent data appear?"
   ]
  },
  {
   "cell_type": "code",
   "execution_count": null,
   "id": "af96e5f9-54b6-4a00-a970-500987dfd8ef",
   "metadata": {},
   "outputs": [],
   "source": [
    "In a normal distribution, the least frequent data appears at the tails of the distribution, which are located at the extreme ends of the distribution.\n",
    "Specifically, the least frequent data appears at the values that are farthest away from the mean of the distribution.\n",
    "\n",
    "In a normal distribution, about 68% of the data falls within one standard deviation of the mean, 95% of the data falls within two standard deviations of the mean, \n",
    "and 99.7% of the data falls within three standard deviations of the mean. This leaves only a small amount of data in the tails of the distribution.\n",
    "\n",
    "The tails of the distribution are where the data is the least frequent and the probability of observing a value in the tail is very low. \n",
    "The tails extend infinitely in both directions, but the vast majority of the data falls within a few standard deviations of the mean. \n",
    "Therefore, the least frequent data in a normal distribution is located in the tails of the distribution, which are farthest away from the mean."
   ]
  }
 ],
 "metadata": {
  "kernelspec": {
   "display_name": "Python 3 (ipykernel)",
   "language": "python",
   "name": "python3"
  },
  "language_info": {
   "codemirror_mode": {
    "name": "ipython",
    "version": 3
   },
   "file_extension": ".py",
   "mimetype": "text/x-python",
   "name": "python",
   "nbconvert_exporter": "python",
   "pygments_lexer": "ipython3",
   "version": "3.10.8"
  }
 },
 "nbformat": 4,
 "nbformat_minor": 5
}
