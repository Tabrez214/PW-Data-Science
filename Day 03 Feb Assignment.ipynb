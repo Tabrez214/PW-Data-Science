{
 "cells": [
  {
   "cell_type": "code",
   "execution_count": null,
   "id": "95fd1529-4080-4f14-a90f-33ea7be35655",
   "metadata": {},
   "outputs": [],
   "source": [
    "Q1. Which keyword is used to create a function? Create a function to return a list of odd numbers in the range of 1 to 25."
   ]
  },
  {
   "cell_type": "code",
   "execution_count": null,
   "id": "cdcb0a13-86fd-43f5-9462-34b6cd7df818",
   "metadata": {},
   "outputs": [],
   "source": [
    "def keyword is used to create function. "
   ]
  },
  {
   "cell_type": "code",
   "execution_count": 8,
   "id": "a078cdad-05b1-4a18-baa9-58d030a23d74",
   "metadata": {},
   "outputs": [
    {
     "name": "stdout",
     "output_type": "stream",
     "text": [
      "[1, 3, 5, 7, 9, 11, 13, 15, 17, 19, 21, 23, 25]\n"
     ]
    }
   ],
   "source": [
    "def odd_numbers():\n",
    "    return [num for num in range(1, 26) if num % 2 != 0]\n",
    "\n",
    "print(odd_numbers())\n"
   ]
  },
  {
   "cell_type": "code",
   "execution_count": null,
   "id": "71a1edce-3a9e-4ed3-aa41-c836efbc844f",
   "metadata": {},
   "outputs": [],
   "source": []
  },
  {
   "cell_type": "code",
   "execution_count": null,
   "id": "f0d0d9d0-6fbe-4e3f-b24a-73045a3df3b3",
   "metadata": {},
   "outputs": [],
   "source": [
    "Q2. Why *args and **kwargs is used in some functions? Create a function each for *args and **kwargs to\n",
    "demonstrate their use."
   ]
  },
  {
   "cell_type": "code",
   "execution_count": null,
   "id": "128ce2f1-fef0-4adb-9cde-70582e3886e6",
   "metadata": {},
   "outputs": [],
   "source": [
    "*args and **kwargs are used in function definitions to allow a function to accept a varying number of arguments"
   ]
  },
  {
   "cell_type": "code",
   "execution_count": 1,
   "id": "502df986-f3ad-43fb-be97-77c063875bba",
   "metadata": {},
   "outputs": [
    {
     "data": {
      "text/plain": [
       "(2, 6, 3, 25, 2.15)"
      ]
     },
     "execution_count": 1,
     "metadata": {},
     "output_type": "execute_result"
    }
   ],
   "source": [
    "# *args\n",
    "def test2(*Tab):\n",
    "    return Tab\n",
    "test2(2,6,3,25,2.15)"
   ]
  },
  {
   "cell_type": "code",
   "execution_count": 2,
   "id": "b96f159b-9ace-4c22-87a9-4cf3ee2464ac",
   "metadata": {},
   "outputs": [
    {
     "data": {
      "text/plain": [
       "{'a': 7, 'b': 85, 'c': 'TAb', 'd': (2, 49, 8.0), 'e': [1, 5, 64, 89]}"
      ]
     },
     "execution_count": 2,
     "metadata": {},
     "output_type": "execute_result"
    }
   ],
   "source": [
    "# **kwargs\n",
    "def test7(**kwargs):\n",
    "    return kwargs\n",
    "test7(a = 7, b = 85, c = \"TAb\",d = (2,49,8.0), e = [1,5,64,89])"
   ]
  },
  {
   "cell_type": "code",
   "execution_count": null,
   "id": "ed5d4ee4-b61d-4604-b8e3-fc1e8cc035a4",
   "metadata": {},
   "outputs": [],
   "source": []
  },
  {
   "cell_type": "code",
   "execution_count": null,
   "id": "da44d8f4-e236-42b0-87fb-8c19df803435",
   "metadata": {},
   "outputs": [],
   "source": [
    "Q3. What is an iterator in python? Name the method used to initialise the iterator object and the method\n",
    "used for iteration. Use these methods to print the first five elements of the given list [2, 4, 6, 8, 10, 12, 14, 16,\n",
    "18, 20]."
   ]
  },
  {
   "cell_type": "code",
   "execution_count": null,
   "id": "ed175fc2-122f-4530-96ff-98189332d4bd",
   "metadata": {},
   "outputs": [],
   "source": [
    "An iterator is an object that can be iterated (looped) upon. \n",
    "It is used to abstract a container of data to make it behave like an iterable object. \n",
    "You probably already use a few iterable objects every day: strings, lists, and dictionaries to name a few."
   ]
  },
  {
   "cell_type": "code",
   "execution_count": 6,
   "id": "ebd16294-ba57-4e10-8a46-93b1a3b5eb21",
   "metadata": {},
   "outputs": [
    {
     "name": "stdout",
     "output_type": "stream",
     "text": [
      "2\n",
      "4\n",
      "6\n",
      "8\n",
      "10\n"
     ]
    }
   ],
   "source": [
    "list1 = [2, 4, 6, 8, 10, 12, 14, 16,18, 20]\n",
    "iter1 = iter(list1)\n",
    "for i in range(5):\n",
    "    print(next(iter1))"
   ]
  },
  {
   "cell_type": "code",
   "execution_count": null,
   "id": "eba4611b-e5f1-4a70-ab3c-436e082c5ea4",
   "metadata": {},
   "outputs": [],
   "source": []
  },
  {
   "cell_type": "code",
   "execution_count": null,
   "id": "a6c5f684-7eba-486a-b48c-94034a496d91",
   "metadata": {},
   "outputs": [],
   "source": [
    "Q4. What is a generator function in python? Why yield keyword is used? Give an example of a generator\n",
    "function."
   ]
  },
  {
   "cell_type": "code",
   "execution_count": null,
   "id": "889431c8-662d-4029-95a8-a542350c406c",
   "metadata": {},
   "outputs": [],
   "source": [
    "A generator function in Python is a special type of function that allows you to generate an iterator. \n",
    "It returns a sequence of values, one at a time, instead of returning a list of values all at once. \n",
    "This makes it more memory-efficient than a traditional function. \n",
    "The yield keyword is used to return a value from the generator function and pause its execution, \n",
    "so the next time the function is called, it resumes from where it left off."
   ]
  },
  {
   "cell_type": "code",
   "execution_count": 7,
   "id": "08d10ec4-d293-493c-9acc-0f16fcd9d954",
   "metadata": {},
   "outputs": [
    {
     "name": "stdout",
     "output_type": "stream",
     "text": [
      "0\n",
      "1\n",
      "1\n",
      "2\n",
      "3\n",
      "5\n",
      "8\n",
      "13\n",
      "21\n",
      "34\n",
      "55\n",
      "89\n",
      "144\n",
      "233\n",
      "377\n"
     ]
    }
   ],
   "source": [
    "def test_fib(n):\n",
    "    a,b = 0,1\n",
    "    for i in range(n):\n",
    "        yield a\n",
    "        a,b = b , a+b\n",
    "\n",
    "for i in test_fib(15):\n",
    "    print(i)"
   ]
  },
  {
   "cell_type": "code",
   "execution_count": null,
   "id": "34456d1a-df86-479a-97a3-fa0a9bb1a4eb",
   "metadata": {},
   "outputs": [],
   "source": []
  },
  {
   "cell_type": "code",
   "execution_count": null,
   "id": "d917120b-70b7-40a6-89be-3181b50c2acb",
   "metadata": {},
   "outputs": [],
   "source": [
    "Q5. Create a generator function for prime numbers less than 1000. Use the next() method to print the\n",
    "first 20 prime numbers."
   ]
  },
  {
   "cell_type": "code",
   "execution_count": 12,
   "id": "5d72e996-2be6-42c1-b223-c0fec895eef5",
   "metadata": {},
   "outputs": [
    {
     "name": "stdout",
     "output_type": "stream",
     "text": [
      "2\n",
      "3\n",
      "5\n",
      "7\n",
      "11\n",
      "13\n",
      "17\n",
      "19\n",
      "23\n",
      "29\n",
      "31\n",
      "37\n",
      "41\n",
      "43\n",
      "47\n",
      "53\n",
      "59\n",
      "61\n",
      "67\n",
      "71\n"
     ]
    }
   ],
   "source": [
    "def prime_numbers_less_than_1000():\n",
    "    yield 2\n",
    "    primes = [2]\n",
    "    number = 3\n",
    "    while number < 1000:\n",
    "        is_prime = True\n",
    "        for prime in primes:\n",
    "            if prime > number ** 0.5:\n",
    "                break\n",
    "            if number % prime == 0:\n",
    "                is_prime = False\n",
    "                break\n",
    "        if is_prime:\n",
    "            primes.append(number)\n",
    "            yield number\n",
    "        number += 2\n",
    "\n",
    "prime_gen = prime_numbers_less_than_1000()\n",
    "for i in range(20):\n",
    "    print(next(prime_gen))\n"
   ]
  },
  {
   "cell_type": "code",
   "execution_count": null,
   "id": "e64b100b-55f6-4dee-a9cd-fc4704e28879",
   "metadata": {},
   "outputs": [],
   "source": []
  }
 ],
 "metadata": {
  "kernelspec": {
   "display_name": "Python 3 (ipykernel)",
   "language": "python",
   "name": "python3"
  },
  "language_info": {
   "codemirror_mode": {
    "name": "ipython",
    "version": 3
   },
   "file_extension": ".py",
   "mimetype": "text/x-python",
   "name": "python",
   "nbconvert_exporter": "python",
   "pygments_lexer": "ipython3",
   "version": "3.10.8"
  }
 },
 "nbformat": 4,
 "nbformat_minor": 5
}
