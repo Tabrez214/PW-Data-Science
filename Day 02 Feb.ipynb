{
 "cells": [
  {
   "cell_type": "code",
   "execution_count": null,
   "id": "5a38a750-f096-4d0d-a1d7-5c263d199714",
   "metadata": {},
   "outputs": [],
   "source": [
    "Q1. What are the characteristics of the tuples? Is tuple immutable?"
   ]
  },
  {
   "cell_type": "code",
   "execution_count": null,
   "id": "970266c9-7326-4b8e-9223-03889f522d28",
   "metadata": {},
   "outputs": [],
   "source": [
    "Ans. Tuples are ordered collections of elements of any type in Python, represented using parenthesis. \n",
    "We can define tuple as list also which cannot change. Yes tuples are immutable."
   ]
  },
  {
   "cell_type": "code",
   "execution_count": null,
   "id": "f680f39d-f6f0-4198-87dc-7d96de1b9f92",
   "metadata": {},
   "outputs": [],
   "source": []
  },
  {
   "cell_type": "code",
   "execution_count": null,
   "id": "f5bd1d3c-99c1-4453-8d84-ecfd07b2b30e",
   "metadata": {},
   "outputs": [],
   "source": [
    "Q2. What are the two tuple methods in python? Give an example of each method.  \n",
    "    Give a reason why tuples have only two in-built methods as compared to Lists."
   ]
  },
  {
   "cell_type": "code",
   "execution_count": null,
   "id": "b04c731c-733b-4c24-9dec-5a1b502e6e7e",
   "metadata": {},
   "outputs": [],
   "source": [
    "Ans. There are only two tuple method index() & count(). "
   ]
  },
  {
   "cell_type": "code",
   "execution_count": 7,
   "id": "b0af1b98-4c3e-43a7-a6db-81b97980e2e3",
   "metadata": {},
   "outputs": [],
   "source": [
    "a = (1,2,5,6,\"Suresh\",\"Jimmy\",6,8)"
   ]
  },
  {
   "cell_type": "code",
   "execution_count": 8,
   "id": "52b89959-bfab-4023-a125-3ddde7a8e349",
   "metadata": {},
   "outputs": [
    {
     "data": {
      "text/plain": [
       "2"
      ]
     },
     "execution_count": 8,
     "metadata": {},
     "output_type": "execute_result"
    }
   ],
   "source": [
    "a.index(5)"
   ]
  },
  {
   "cell_type": "code",
   "execution_count": 9,
   "id": "55f794d6-62a5-420a-b1db-a07418bda49e",
   "metadata": {},
   "outputs": [
    {
     "data": {
      "text/plain": [
       "2"
      ]
     },
     "execution_count": 9,
     "metadata": {},
     "output_type": "execute_result"
    }
   ],
   "source": [
    "a.count(6)"
   ]
  },
  {
   "cell_type": "code",
   "execution_count": null,
   "id": "2537dd43-1e31-46f9-8390-21438e6abbef",
   "metadata": {},
   "outputs": [],
   "source": []
  },
  {
   "cell_type": "code",
   "execution_count": 1,
   "id": "e27de521-55e2-4b76-85c3-e69646f88fb6",
   "metadata": {},
   "outputs": [],
   "source": [
    "Q3. Which collection datatypes in python do not allow duplicate items? Write a code using a set to remove\n",
    "duplicates from the given list.\n",
    "List = [1, 1, 1, 2, 1, 3, 1, 4, 2, 1, 2, 2, 2, 3, 2, 4, 3, 1, 3, 2, 3, 3, 3, 4, 4, 1, 4, 2, 4, 3, 4, 4]"
   ]
  },
  {
   "cell_type": "code",
   "execution_count": 2,
   "id": "22d87de7-d6df-4a70-921e-2b3453b9ffe4",
   "metadata": {},
   "outputs": [
    {
     "data": {
      "text/plain": [
       "{1, 2, 3, 4}"
      ]
     },
     "execution_count": 2,
     "metadata": {},
     "output_type": "execute_result"
    }
   ],
   "source": [
    "set(List)"
   ]
  },
  {
   "cell_type": "code",
   "execution_count": null,
   "id": "15c223b2-20d4-46f0-9ca3-4e95443ec634",
   "metadata": {},
   "outputs": [],
   "source": []
  },
  {
   "cell_type": "code",
   "execution_count": null,
   "id": "f558d9fb-cb44-4fd9-9284-e435cc42dfd8",
   "metadata": {},
   "outputs": [],
   "source": [
    "Q4. Explain the difference between the union() and update() methods for a set. Give an example of each method."
   ]
  },
  {
   "cell_type": "code",
   "execution_count": 11,
   "id": "9c582236-52da-416a-8b39-5fb71584a0c9",
   "metadata": {},
   "outputs": [],
   "source": [
    "Ans. The union() & update() method are used to combine two elements of sets."
   ]
  },
  {
   "cell_type": "code",
   "execution_count": 12,
   "id": "ccc3bbd1-b888-4f3c-9ca7-6d637c953a79",
   "metadata": {},
   "outputs": [],
   "source": [
    "set1 = {1,2,3}\n",
    "set2 = {3,4,5}"
   ]
  },
  {
   "cell_type": "code",
   "execution_count": 13,
   "id": "4024b65e-ac6e-48a3-841d-d5c5445e5e53",
   "metadata": {},
   "outputs": [],
   "source": [
    "#union() creates a new set after eliminating duplicates\n",
    "set3 = set2.union(set1)"
   ]
  },
  {
   "cell_type": "code",
   "execution_count": 14,
   "id": "56af2818-f529-49d8-8f0a-1f6e6840d880",
   "metadata": {},
   "outputs": [
    {
     "data": {
      "text/plain": [
       "{1, 2, 3, 4, 5}"
      ]
     },
     "execution_count": 14,
     "metadata": {},
     "output_type": "execute_result"
    }
   ],
   "source": [
    "set3"
   ]
  },
  {
   "cell_type": "code",
   "execution_count": 16,
   "id": "c720c468-6e81-47e1-8484-aec0b829dc13",
   "metadata": {},
   "outputs": [],
   "source": [
    "#update() updates the original set by adding all the elements from another set.\n",
    "set1.update(set2)"
   ]
  },
  {
   "cell_type": "code",
   "execution_count": 17,
   "id": "060469be-96d6-43e4-b37d-5178e4926907",
   "metadata": {},
   "outputs": [
    {
     "data": {
      "text/plain": [
       "{1, 2, 3, 4, 5}"
      ]
     },
     "execution_count": 17,
     "metadata": {},
     "output_type": "execute_result"
    }
   ],
   "source": [
    "set1"
   ]
  },
  {
   "cell_type": "code",
   "execution_count": null,
   "id": "f9e92b63-597b-439d-b85a-a379e7452c7f",
   "metadata": {},
   "outputs": [],
   "source": []
  },
  {
   "cell_type": "code",
   "execution_count": null,
   "id": "0ca4710b-bc43-474d-b14c-6f3aa1941f4f",
   "metadata": {},
   "outputs": [],
   "source": [
    "Q5. What is a dictionary? Give an example. Also, state whether a dictionary is ordered or unordered."
   ]
  },
  {
   "cell_type": "code",
   "execution_count": null,
   "id": "7cfc29e0-ec01-4076-ae78-c3e41b4ab794",
   "metadata": {},
   "outputs": [],
   "source": [
    "Ans. A dictionary is collection of key-value pairs, Dictionary are represented using curly brackets '{}' & \n",
    "Whenever you are trying to create dictionery your key should always be different, because it will take the latest key"
   ]
  },
  {
   "cell_type": "code",
   "execution_count": 1,
   "id": "cdf586f7-5404-4cf1-8b06-813476f9a9a1",
   "metadata": {},
   "outputs": [],
   "source": [
    "d1 = {\"name\":\"Tabrez\",\"Email\":\"Tshaikh214@gmail.com\",\"number\":7021492486}"
   ]
  },
  {
   "cell_type": "code",
   "execution_count": null,
   "id": "9d0bc89b-79fe-48d3-8a89-f60dec358414",
   "metadata": {},
   "outputs": [],
   "source": []
  },
  {
   "cell_type": "code",
   "execution_count": null,
   "id": "8f6f3174-3042-4e32-8813-a29e9c82a44e",
   "metadata": {},
   "outputs": [],
   "source": [
    "Q6. Can we create a nested dictionary? If so, please give an example by creating a simple one-level\n",
    "nested dictionary."
   ]
  },
  {
   "cell_type": "code",
   "execution_count": null,
   "id": "aff0a30d-b44b-41b3-b0d2-4b85a5f32694",
   "metadata": {},
   "outputs": [],
   "source": [
    "d2 = {'Key' : {'Courses' : \"Data Science Masters\"}}"
   ]
  },
  {
   "cell_type": "code",
   "execution_count": null,
   "id": "ef2bbcf1-cc6c-4506-9eb3-24cd36dcbab4",
   "metadata": {},
   "outputs": [],
   "source": []
  },
  {
   "cell_type": "code",
   "execution_count": null,
   "id": "76d6c97f-785a-4f91-803b-8a11acf20ee3",
   "metadata": {},
   "outputs": [],
   "source": [
    "Q7. Using setdefault() method, create key named topics in the given dictionary and also add the value of\n",
    "the key as this list ['Python', 'Machine Learning’, 'Deep Learning']\n",
    "dict1 = {'language' : 'Python', 'course': 'Data Science Masters'}"
   ]
  },
  {
   "cell_type": "code",
   "execution_count": 12,
   "id": "d4185b91-e124-48f1-bc4c-29f3dff3bddd",
   "metadata": {},
   "outputs": [],
   "source": [
    "dict1 = {'language' : 'Python', 'course': 'Data Science Masters'}\n",
    "dict1.setdefault(\"topics\", []).extend(['Python', 'Machine Learning', 'Deep Learning'])"
   ]
  },
  {
   "cell_type": "code",
   "execution_count": 15,
   "id": "5fda3ab0-511b-4098-82dd-f72f22983844",
   "metadata": {},
   "outputs": [
    {
     "data": {
      "text/plain": [
       "{'language': 'Python',\n",
       " 'course': 'Data Science Masters',\n",
       " 'topics': ['Python', 'Machine Learning', 'Deep Learning']}"
      ]
     },
     "execution_count": 15,
     "metadata": {},
     "output_type": "execute_result"
    }
   ],
   "source": [
    "dict1"
   ]
  },
  {
   "cell_type": "code",
   "execution_count": null,
   "id": "186e8522-98ee-453c-ad85-d59b46a01f15",
   "metadata": {},
   "outputs": [],
   "source": []
  },
  {
   "cell_type": "code",
   "execution_count": null,
   "id": "34862f24-20f3-4e35-9911-7c607e91989f",
   "metadata": {},
   "outputs": [],
   "source": [
    "Q8. What are the three view objects in dictionaries? Use the three in-built methods in python to display\n",
    "these three view objects for the given dictionary.\n",
    "dict1 = {'Sport': 'Cricket' , 'Teams': ['India', 'Australia', 'England', 'South Africa', 'Sri Lanka', 'New Zealand']}"
   ]
  },
  {
   "cell_type": "code",
   "execution_count": 17,
   "id": "7b57c2df-a145-4c25-a1f1-7fa3c89cf312",
   "metadata": {},
   "outputs": [],
   "source": [
    "dict1 = {'Sport': 'Cricket' , 'Teams': ['India', 'Australia', 'England', 'South Africa', 'Sri Lanka', 'New Zealand']}"
   ]
  },
  {
   "cell_type": "code",
   "execution_count": 22,
   "id": "1f16c51f-a7dc-4e9d-b416-72b6415fd9a3",
   "metadata": {},
   "outputs": [
    {
     "data": {
      "text/plain": [
       "dict_keys(['Sport', 'Teams'])"
      ]
     },
     "execution_count": 22,
     "metadata": {},
     "output_type": "execute_result"
    }
   ],
   "source": [
    "dict1.keys()"
   ]
  },
  {
   "cell_type": "code",
   "execution_count": 21,
   "id": "8a4872a0-ac35-43fd-b3c3-3b47b7b9eb41",
   "metadata": {},
   "outputs": [
    {
     "data": {
      "text/plain": [
       "dict_values(['Cricket', ['India', 'Australia', 'England', 'South Africa', 'Sri Lanka', 'New Zealand']])"
      ]
     },
     "execution_count": 21,
     "metadata": {},
     "output_type": "execute_result"
    }
   ],
   "source": [
    "dict1.values()"
   ]
  },
  {
   "cell_type": "code",
   "execution_count": 23,
   "id": "34bcc279-036c-4ecf-af33-c1fd31559329",
   "metadata": {},
   "outputs": [
    {
     "data": {
      "text/plain": [
       "dict_items([('Sport', 'Cricket'), ('Teams', ['India', 'Australia', 'England', 'South Africa', 'Sri Lanka', 'New Zealand'])])"
      ]
     },
     "execution_count": 23,
     "metadata": {},
     "output_type": "execute_result"
    }
   ],
   "source": [
    "dict1.items()"
   ]
  },
  {
   "cell_type": "code",
   "execution_count": null,
   "id": "243dd76c-406e-424d-b804-7970d4d31f26",
   "metadata": {},
   "outputs": [],
   "source": []
  }
 ],
 "metadata": {
  "kernelspec": {
   "display_name": "Python 3 (ipykernel)",
   "language": "python",
   "name": "python3"
  },
  "language_info": {
   "codemirror_mode": {
    "name": "ipython",
    "version": 3
   },
   "file_extension": ".py",
   "mimetype": "text/x-python",
   "name": "python",
   "nbconvert_exporter": "python",
   "pygments_lexer": "ipython3",
   "version": "3.10.8"
  }
 },
 "nbformat": 4,
 "nbformat_minor": 5
}
