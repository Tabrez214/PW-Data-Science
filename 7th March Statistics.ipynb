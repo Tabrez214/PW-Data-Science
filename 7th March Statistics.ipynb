{
 "cells": [
  {
   "cell_type": "code",
   "execution_count": null,
   "id": "0caa927b-2429-47f2-91fb-7e01806a213f",
   "metadata": {},
   "outputs": [],
   "source": [
    "Q1. What are the three measures of central tendency?"
   ]
  },
  {
   "cell_type": "code",
   "execution_count": null,
   "id": "3485023c-6f99-4ea9-a5fc-1c99070090ae",
   "metadata": {},
   "outputs": [],
   "source": [
    "The three measures of central tendency are:\n",
    "\n",
    "1. Mean: The mean is the sum of all the values in a dataset divided by the total number of values. \n",
    "It is often used as a measure of central tendency because it takes into account all the values in the dataset.\n",
    "\n",
    "2. Median: The median is the middle value in a dataset when the values are arranged in order. \n",
    "It is another commonly used measure of central tendency, particularly when the dataset contains outliers or extreme values.\n",
    "\n",
    "3. Mode: The mode is the value that appears most frequently in a dataset. \n",
    "It is another measure of central tendency that is often used, especially when dealing with categorical or discrete data."
   ]
  },
  {
   "cell_type": "code",
   "execution_count": null,
   "id": "dea519cb-ab7c-4f56-aadc-fc113c239427",
   "metadata": {},
   "outputs": [],
   "source": []
  },
  {
   "cell_type": "code",
   "execution_count": null,
   "id": "641ba2b2-f9e3-463f-bf19-b9f963ed665a",
   "metadata": {},
   "outputs": [],
   "source": [
    "Q2. What is the difference between the mean, median, and mode? How are they used to measure the central tendency of a dataset?"
   ]
  },
  {
   "cell_type": "code",
   "execution_count": null,
   "id": "112a6e29-00ce-4e30-b294-2bbaa51f7a85",
   "metadata": {},
   "outputs": [],
   "source": [
    "The mean, median, and mode are all used to measure the central tendency of a dataset, but each has its own strengths \n",
    "and weaknesses depending on the nature of the data. The mean is best used for normally distributed data, \n",
    "while the median is more robust to outliers and is best used for skewed data. The mode is best used for identifying the most common value \n",
    "in a dataset. Depending on the context, one or more of these measures may be used to accurately describe the central tendency of the dataset."
   ]
  },
  {
   "cell_type": "code",
   "execution_count": null,
   "id": "0db31a32-7f06-494e-9cd8-ed5dfcb2164b",
   "metadata": {},
   "outputs": [],
   "source": []
  },
  {
   "cell_type": "code",
   "execution_count": null,
   "id": "6fadf880-92d0-425c-a0d0-37126e8e9105",
   "metadata": {},
   "outputs": [],
   "source": [
    "Q3. Measure the three measures of central tendency for the given height data:\n",
    "[178,177,176,177,178.2,178,175,179,180,175,178.9,176.2,177,172.5,178,176.5]"
   ]
  },
  {
   "cell_type": "code",
   "execution_count": 27,
   "id": "b3d63301-6676-488d-a7ad-12ce16826759",
   "metadata": {},
   "outputs": [],
   "source": [
    "Mean = (178 + 177 + 176 + 177 + 178.2 + 178 + 175 + 179 + 180 + 175 + 178.9 + 176.2 + 177 + 172.5 + 178 + 176.5)/16"
   ]
  },
  {
   "cell_type": "code",
   "execution_count": 28,
   "id": "2b161f45-8fdf-4ed6-8320-1b75cf77bc71",
   "metadata": {},
   "outputs": [
    {
     "data": {
      "text/plain": [
       "177.01875"
      ]
     },
     "execution_count": 28,
     "metadata": {},
     "output_type": "execute_result"
    }
   ],
   "source": [
    "Mean"
   ]
  },
  {
   "cell_type": "code",
   "execution_count": 29,
   "id": "719cd43e-961c-4846-b7b5-d23b60a3615b",
   "metadata": {},
   "outputs": [],
   "source": [
    "Median = (177 + 178) / 2"
   ]
  },
  {
   "cell_type": "code",
   "execution_count": null,
   "id": "a08488f0-dc3a-4a14-8f29-79e10fbe80c0",
   "metadata": {},
   "outputs": [
    {
     "data": {
      "text/plain": [
       "177.5"
      ]
     },
     "execution_count": 9,
     "metadata": {},
     "output_type": "execute_result"
    }
   ],
   "source": [
    "Median"
   ]
  },
  {
   "cell_type": "code",
   "execution_count": null,
   "id": "61df1ffc-db31-4b2f-b6d3-df55550e25d7",
   "metadata": {},
   "outputs": [],
   "source": [
    "Mode = 178"
   ]
  },
  {
   "cell_type": "code",
   "execution_count": null,
   "id": "2e6588f8-cb61-42bd-b12a-3d7f6920de49",
   "metadata": {},
   "outputs": [],
   "source": []
  },
  {
   "cell_type": "code",
   "execution_count": null,
   "id": "c684b5c3-a9e6-42dd-b67e-f0040e6b9b79",
   "metadata": {},
   "outputs": [],
   "source": [
    "Q4. Find the standard deviation for the given data:\n",
    "[178,177,176,177,178.2,178,175,179,180,175,178.9,176.2,177,172.5,178,176.5]"
   ]
  },
  {
   "cell_type": "code",
   "execution_count": null,
   "id": "2613fe1c-08ba-489d-9e11-9c23e73ef5df",
   "metadata": {},
   "outputs": [],
   "source": []
  },
  {
   "cell_type": "code",
   "execution_count": null,
   "id": "2a2a2dae-05a3-4354-98b4-9b076f0bb5e0",
   "metadata": {},
   "outputs": [],
   "source": [
    "Q5. How are measures of dispersion such as range, variance, and standard deviation used to describe the spread of a dataset? Provide an example."
   ]
  },
  {
   "cell_type": "code",
   "execution_count": null,
   "id": "919a92da-bf8d-477b-b991-7fca7ec31f6d",
   "metadata": {},
   "outputs": [],
   "source": [
    "Measures of dispersion such as range, variance, and standard deviation are used to describe the spread of a dataset by providing information\n",
    "about how far apart the values are from each other.\n",
    "\n",
    "Range: The range is the difference between the highest and lowest values in the dataset. A larger range indicates a wider spread of values. \n",
    "For example, if we have two datasets: Dataset A with a range of 10 and Dataset B with a range of 5, we can say that the values in \n",
    "Dataset A are more spread out than the values in Dataset B.\n",
    "\n",
    "Variance: The variance is a measure of how spread out the values in the dataset are with respect to the mean.\n",
    "A larger variance indicates a wider spread of values. For example, if we have two datasets: Dataset A with a variance of 20 and \n",
    "Dataset B with a variance of 10, we can say that the values in Dataset A are more spread out than the values in Dataset B.\n",
    "\n",
    "Standard deviation: The standard deviation is another measure of how spread out the values in the dataset are with respect to the mean. \n",
    "A larger standard deviation indicates a wider spread of values. For example, if we have two datasets: Dataset A with a standard deviation of 5 and \n",
    "Dataset B with a standard deviation of 2, we can say that the values in Dataset A are more spread out than the values in Dataset B.\n",
    "\n",
    "For example, lets say we have two datasets of the ages of students in two different schools:\n",
    "\n",
    "Dataset A: [12, 14, 13, 16, 12, 13, 15, 14, 16, 14]\n",
    "Dataset B: [10, 11, 10, 11, 12, 11, 10, 11, 12, 11]\n",
    "The mean age for both datasets is 13.2. However, Dataset A has a larger range of values (4) compared to Dataset B (2), \n",
    "indicating that the ages in Dataset A are more spread out. \n",
    "The variance and standard deviation can be calculated for each dataset to provide a more precise measure of the spread. \n",
    "The variance for Dataset A is 2.44 and for Dataset B it is 0.56. The standard deviation \n",
    "for Dataset A is 1.56 and for Dataset B it is 0.75. These values confirm that the ages in Dataset A are more spread out than the ages in Dataset B."
   ]
  },
  {
   "cell_type": "code",
   "execution_count": null,
   "id": "008586e4-04f0-4f5a-ad9a-4913e68fac3b",
   "metadata": {},
   "outputs": [],
   "source": []
  },
  {
   "cell_type": "code",
   "execution_count": null,
   "id": "fa9e8504-dc1b-44a8-ad20-5ee4a641f428",
   "metadata": {},
   "outputs": [],
   "source": [
    "Q6. What is a Venn diagram?"
   ]
  },
  {
   "cell_type": "code",
   "execution_count": null,
   "id": "35afb4b2-2edb-44ba-a04d-a033387da60b",
   "metadata": {},
   "outputs": [],
   "source": [
    "A Venn diagram is a visual representation of the relationships between different sets of data or objects. It consists of circles or other shapes that overlap,\n",
    "with each circle representing a set and the overlap representing the intersection between the sets. \n",
    "The purpose of a Venn diagram is to show the similarities and differences between the sets in a clear and intuitive way.\n",
    "Venn diagrams are commonly used in mathematics, logic, and statistics to illustrate concepts such as set theory, probability, \n",
    "and logical relationships between data. They are named after John Venn, a 19th-century mathematician and philosopher who popularized their use."
   ]
  },
  {
   "cell_type": "code",
   "execution_count": null,
   "id": "72d04019-f23d-436c-95a2-fd06dcf70e39",
   "metadata": {},
   "outputs": [],
   "source": []
  },
  {
   "cell_type": "code",
   "execution_count": null,
   "id": "c6f8758a-39d4-4463-b3a4-dd2a3632e9b1",
   "metadata": {},
   "outputs": [],
   "source": [
    "Q7. For the two given sets A = (2,3,4,5,6,7) & B = (0,2,6,8,10). Find:\n",
    "(i) A B\n",
    "(ii) A ⋃ B"
   ]
  },
  {
   "cell_type": "code",
   "execution_count": null,
   "id": "5087a47b-4fcd-4aef-abce-5f482adad7e0",
   "metadata": {},
   "outputs": [],
   "source": [
    "(i) A B = (2, 6)\n",
    "(ii) A ⋃ B = (0, 2, 3, 4, 5, 6, 7, 8, 10)"
   ]
  },
  {
   "cell_type": "code",
   "execution_count": null,
   "id": "12ce7d2d-204e-41c2-b87a-274559444a47",
   "metadata": {},
   "outputs": [],
   "source": []
  },
  {
   "cell_type": "code",
   "execution_count": null,
   "id": "77ada4cb-e806-4fed-8f03-e6b914f6607f",
   "metadata": {},
   "outputs": [],
   "source": [
    "Q8. What do you understand about skewness in data?"
   ]
  },
  {
   "cell_type": "code",
   "execution_count": null,
   "id": "e7ab5c7b-7544-46a9-ba17-521832ff6cd8",
   "metadata": {},
   "outputs": [],
   "source": [
    "Skewness in data refers to the degree of asymmetry in a distribution. A distribution is symmetric if both sides are mirror images of each other. \n",
    "Positive skewness occurs when there are more data points on the left side of the distribution with a long tail extending to the right,\n",
    "while negative skewness occurs when there are more data points on the right side of the distribution with a long tail extending to the left.\n",
    "Skewness can impact the interpretation of measures of central tendency \n",
    "and dispersion, so its important to consider skewness when analyzing data and use appropriate statistical techniques to account for it if necessary."
   ]
  },
  {
   "cell_type": "code",
   "execution_count": null,
   "id": "46a3d844-156b-44eb-814b-be0307a88e2a",
   "metadata": {},
   "outputs": [],
   "source": []
  },
  {
   "cell_type": "code",
   "execution_count": null,
   "id": "180d34a9-4f2f-4da8-88a1-5493f2cff4fa",
   "metadata": {},
   "outputs": [],
   "source": [
    "Q9. If a data is right skewed then what will be the position of median with respect to mean?"
   ]
  },
  {
   "cell_type": "code",
   "execution_count": null,
   "id": "144e9750-6d22-4362-9856-5e311c64abed",
   "metadata": {},
   "outputs": [],
   "source": [
    "If a dataset is right-skewed, then the mean will be greater than the median. \n",
    "This is because the right-skewed data has a long tail on the right side, which pulls the mean towards it. \n",
    "On the other hand, the median is less affected by extreme values \n",
    "in the data, so it tends to be closer to the center of the data. As a result, the median is usually located to the left of the mean in a right-skewed distribution."
   ]
  },
  {
   "cell_type": "code",
   "execution_count": null,
   "id": "2414a72b-644d-4f64-a4a1-91fa83380e42",
   "metadata": {},
   "outputs": [],
   "source": []
  },
  {
   "cell_type": "code",
   "execution_count": null,
   "id": "aba161d4-715b-4916-97d7-35a9682861e3",
   "metadata": {},
   "outputs": [],
   "source": [
    "Q10. Explain the difference between covariance and correlation. How are these measures used in statistical analysis?"
   ]
  },
  {
   "cell_type": "code",
   "execution_count": null,
   "id": "22f4ec1e-62f3-4631-8fa3-8ceb1579ca09",
   "metadata": {},
   "outputs": [],
   "source": [
    "Covariance and correlation are measures of the relationship between two variables in a dataset. \n",
    "Covariance measures the direction and strength of the relationship, but the magnitude is affected by the units of the variables.\n",
    "Correlation is a standardized measure that ranges from -1 to 1 and measures both the strength and direction of the relationship.\n",
    "Correlation is preferred over covariance because it is easier to interpret.\n",
    "Both measures are used in statistical analysis to measure the relationship between variables, but correlation is widely used in regression analysis."
   ]
  },
  {
   "cell_type": "code",
   "execution_count": null,
   "id": "161edb1d-f488-4583-ad62-7b52276df17e",
   "metadata": {},
   "outputs": [],
   "source": []
  },
  {
   "cell_type": "code",
   "execution_count": null,
   "id": "1864c39e-a89a-4ff0-a703-9826cbd3c7c9",
   "metadata": {},
   "outputs": [],
   "source": [
    "Q11. What is the formula for calculating the sample mean? Provide an example calculation for a dataset."
   ]
  },
  {
   "cell_type": "code",
   "execution_count": null,
   "id": "3c1a1306-fd09-4cf7-9783-2433fd21f4f6",
   "metadata": {},
   "outputs": [],
   "source": [
    "The formula for calculating the sample mean is:\n",
    "\n",
    "x̄ = (Σxi) / n\n",
    "\n",
    "Where x̄ is the sample mean, Σxi is the sum of all the values in the sample, and n is the sample size.\n",
    "\n",
    "Heres an example calculation for a dataset:\n",
    "\n",
    "5, 8, 12, 16, 20\n",
    "\n",
    "To find the sample mean, we add up all the values in the dataset and divide by the number of values:\n",
    "\n",
    "x̄ = (5 + 8 + 12 + 16 + 20) / 5\n",
    "x̄ = 61 / 5\n",
    "x̄ = 12.2\n",
    "\n",
    "So the sample mean for this dataset is 12.2."
   ]
  },
  {
   "cell_type": "code",
   "execution_count": null,
   "id": "1b550240-bb99-44df-9d50-c12c0f974886",
   "metadata": {},
   "outputs": [],
   "source": []
  },
  {
   "cell_type": "code",
   "execution_count": null,
   "id": "92a9b8ca-3f3a-46b9-b106-40148858ec06",
   "metadata": {},
   "outputs": [],
   "source": [
    "Q12. For a normal distribution data what is the relationship between its measure of central tendency?"
   ]
  },
  {
   "cell_type": "code",
   "execution_count": null,
   "id": "eca3bfb3-eda6-428d-a9ea-b22282c8ffe7",
   "metadata": {},
   "outputs": [],
   "source": [
    "For a normal distribution, the mean, median, and mode are all equal. This is because a normal distribution is symmetric around its mean,\n",
    "and the peak of the distribution occurs at the mean. Therefore, the mean, median, and mode all represent the same value, which is the central tendency of the data.\n",
    "\n",
    "In other words, for a normal distribution, the measure of central tendency, whether it be the mean, median, or mode, is located at the center of the distribution,\n",
    "where the data is most densely packed. This is why the normal distribution is often used as a reference distribution for statistical analysis."
   ]
  },
  {
   "cell_type": "code",
   "execution_count": null,
   "id": "83567694-fe82-45a3-852e-6b4da437a6d2",
   "metadata": {},
   "outputs": [],
   "source": []
  },
  {
   "cell_type": "code",
   "execution_count": null,
   "id": "100dbfb1-3064-4e30-81c6-4e5653e1d211",
   "metadata": {},
   "outputs": [],
   "source": [
    "Q13. How is covariance different from correlation?"
   ]
  },
  {
   "cell_type": "code",
   "execution_count": null,
   "id": "3d22a066-cba3-4ebe-8499-290b059d62e7",
   "metadata": {},
   "outputs": [],
   "source": [
    "Covariance and correlation are both measures of the relationship between two variables. However, \n",
    "covariance measures the direction and strength of the linear relationship between two variables,\n",
    "while correlation measures the strength and direction of the relationship after standardizing for the scale of the variables."
   ]
  },
  {
   "cell_type": "code",
   "execution_count": null,
   "id": "4c4d638b-97e0-4f41-b96f-67e408e78561",
   "metadata": {},
   "outputs": [],
   "source": []
  },
  {
   "cell_type": "code",
   "execution_count": null,
   "id": "05424308-b26b-4b6a-8035-0db3b93c73ac",
   "metadata": {},
   "outputs": [],
   "source": [
    "Q14. How do outliers affect measures of central tendency and dispersion? Provide an example."
   ]
  },
  {
   "cell_type": "code",
   "execution_count": null,
   "id": "d4366461-e9f1-422f-a93e-b920aef7f79d",
   "metadata": {},
   "outputs": [],
   "source": []
  }
 ],
 "metadata": {
  "kernelspec": {
   "display_name": "Python 3 (ipykernel)",
   "language": "python",
   "name": "python3"
  },
  "language_info": {
   "codemirror_mode": {
    "name": "ipython",
    "version": 3
   },
   "file_extension": ".py",
   "mimetype": "text/x-python",
   "name": "python",
   "nbconvert_exporter": "python",
   "pygments_lexer": "ipython3",
   "version": "3.10.8"
  }
 },
 "nbformat": 4,
 "nbformat_minor": 5
}
