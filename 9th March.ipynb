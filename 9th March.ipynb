{
 "cells": [
  {
   "cell_type": "code",
   "execution_count": null,
   "id": "f332d5c3-ad36-40da-9826-b923c05dc08e",
   "metadata": {},
   "outputs": [],
   "source": [
    "Q1: What are the Probability Mass Function (PMF) and Probability Density Function (PDF)? Explain with an example."
   ]
  },
  {
   "cell_type": "code",
   "execution_count": null,
   "id": "bd97c667-0eef-4549-9d69-ad861762abf7",
   "metadata": {},
   "outputs": [],
   "source": [
    "A Probability Mass Function (PMF) is used for discrete random variables, where the probability of each possible outcome is assigned a probability mass.\n",
    "The PMF maps each possible value of the discrete variable to its probability. It gives the probability of observing a particular value in a sample space.\n",
    "\n",
    "For example, consider a coin that is flipped three times, and we want to know the probability of getting two heads. Here, the random variable is the number of heads\n",
    "in the three flips. The PMF of this variable would assign a probability mass to each possible value of the variable, which are 0, 1, 2, and 3. The PMF would be given by:\n",
    "\n",
    "PMF(x) = P(X = x)\n",
    "\n",
    "Where X is the random variable, and x is a possible value of the variable. For the given example, the PMF would be:\n",
    "\n",
    "PMF(0) = P(X = 0) = 1/8\n",
    "PMF(1) = P(X = 1) = 3/8\n",
    "PMF(2) = P(X = 2) = 3/8\n",
    "PMF(3) = P(X = 3) = 1/8\n",
    "\n",
    "A Probability Density Function (PDF) is used for continuous random variables, where the probability of any single outcome is zero.\n",
    "Instead, we consider the probability of the variable being within a certain range of values.\n",
    "The PDF maps each possible value of a continuous variable to the density of its probability distribution.\n",
    "\n",
    "For example, consider the height of adult males in a population. Here, the random variable is the height of the individual.\n",
    "The PDF of this variable would describe the probability of the variable falling within a certain range of values,\n",
    "such as the probability of an individual being between 5'10\" and 6'0\" tall. The PDF would be given by:\n",
    "\n",
    "PDF(x) = f(x)\n",
    "\n",
    "Where x is a possible value of the variable, and f(x) is the density of the probability distribution of the variable. \n",
    "The area under the PDF curve between any two points gives the probability of the variable falling within that range of values.\n",
    "\n",
    "Note that the area under the curve of a PDF must always be equal to 1, as the probability of the variable taking any value must be 1."
   ]
  },
  {
   "cell_type": "code",
   "execution_count": null,
   "id": "65639a96-6e84-488a-9b5d-b72af82f231d",
   "metadata": {},
   "outputs": [],
   "source": []
  },
  {
   "cell_type": "code",
   "execution_count": null,
   "id": "b90297fb-2eee-44b3-8dcf-640194f0c52e",
   "metadata": {},
   "outputs": [],
   "source": [
    "Q2: What is Cumulative Density Function (CDF)? Explain with an example. Why CDF is used?"
   ]
  },
  {
   "cell_type": "code",
   "execution_count": null,
   "id": "d4189c30-9847-4b51-8523-aae026019811",
   "metadata": {},
   "outputs": [],
   "source": [
    "A Cumulative Density Function (CDF) is a function that describes the probability of a random variable being less than or equal to a given value.\n",
    "\n",
    "For example, lets consider the height of adult males in a population. \n",
    "The CDF of this variable would describe the probability of a male individual being less than or equal to a certain height. The CDF is given by:\n",
    "\n",
    "CDF(x) = P(X ≤ x)\n",
    "\n",
    "where X is the random variable, and x is the value up to which we want to calculate the cumulative probability.\n",
    "\n",
    "For instance, if the mean height of adult males in a population is 6 feet with a standard deviation of 2 inches, we can calculate the probability of an adult male being less than or equal to 6 feet 3 inches as follows:\n",
    "\n",
    "First, we standardize the value by subtracting the mean and dividing by the standard deviation, as follows:\n",
    "\n",
    "Z = (6 ft 3 in - 6 ft) / 2 in = 1.5\n",
    "\n",
    "Then, we use a standard normal distribution table to find the probability of a standard normal variable being less than or equal to 1.5, which is approximately 0.9332.\n",
    "\n",
    "Therefore, the CDF of the height variable at 6 feet 3 inches is 0.9332, which means that the probability of an adult male being less than or equal to 6 feet 3 inches is 0.9332.\n",
    "\n",
    "The CDF is useful in probability theory and statistics because it allows us to calculate the probability of a random variable being less than or equal to a given value, which is often required in practical applications. Additionally, it helps in comparing and analyzing different probability distributions and understanding the characteristics of a random variable."
   ]
  },
  {
   "cell_type": "code",
   "execution_count": null,
   "id": "403565dc-a713-4af2-bd11-80b4a8c606bb",
   "metadata": {},
   "outputs": [],
   "source": []
  },
  {
   "cell_type": "code",
   "execution_count": null,
   "id": "1f472d36-4ca7-434f-8da0-38ef285ad0fa",
   "metadata": {},
   "outputs": [],
   "source": [
    "Q3: What are some examples of situations where the normal distribution might be used as a model? Explain how the parameters of the normal distribution relate to the shape of the distribution."
   ]
  },
  {
   "cell_type": "code",
   "execution_count": null,
   "id": "4e434599-2dfe-4a78-ba51-a638f0156cc8",
   "metadata": {},
   "outputs": [],
   "source": [
    "1. Height and weight of a population: The normal distribution can be used to model the distribution of heights and weights in a population.\n",
    "\n",
    "2. IQ scores: The normal distribution can be used to model the distribution of IQ scores in a population.\n",
    "\n",
    "3. Errors in measurement: The normal distribution can be used to model the distribution of errors in measurement, such as errors in laboratory experiments or in surveys.\n",
    "\n",
    "4. Stock prices: The normal distribution can be used to model the distribution of daily stock price changes."
   ]
  },
  {
   "cell_type": "code",
   "execution_count": null,
   "id": "065f2bba-5ca7-41bd-88c0-eab00c377eb9",
   "metadata": {},
   "outputs": [],
   "source": []
  },
  {
   "cell_type": "code",
   "execution_count": null,
   "id": "82a40367-5b70-4729-9790-14bc14026f73",
   "metadata": {},
   "outputs": [],
   "source": [
    "Q4: Explain the importance of Normal Distribution. Give a few real-life examples of Normal Distribution."
   ]
  },
  {
   "cell_type": "code",
   "execution_count": null,
   "id": "ea79407a-5d85-42da-a577-fef4b45c0a3b",
   "metadata": {},
   "outputs": [],
   "source": [
    "Normal distribution is a statistical concept that plays a crucial role in many fields, including economics, social sciences, and natural sciences. \n",
    "It is a probability distribution that is commonly used to describe the distribution of random variables that arise in real-world situations.\n",
    "Normal distribution is important because it allows researchers to make predictions and draw inferences about a population based on a sample of data.\n",
    "\n",
    "Here are a few examples of real-life situations that follow normal distribution:\n",
    "\n",
    "1. Heights of people: The heights of adult humans tend to follow a normal distribution. \n",
    "Most people fall within a range of average heights, while very tall or very short individuals are less common.\n",
    "\n",
    "2. IQ scores: Intelligence quotient (IQ) scores follow a normal distribution, with most people falling within the average range and fewer people at the extremes.\n",
    "\n",
    "3. Test scores: In educational testing, scores tend to follow a normal distribution. This allows educators to compare the performance of students to a standard distribution, \n",
    "with most scores clustering around the average."
   ]
  },
  {
   "cell_type": "code",
   "execution_count": null,
   "id": "abbcf48b-cd38-4aa4-8f02-feae9540f75a",
   "metadata": {},
   "outputs": [],
   "source": []
  },
  {
   "cell_type": "code",
   "execution_count": null,
   "id": "722e5c15-5907-451f-9728-33bf7035a59d",
   "metadata": {},
   "outputs": [],
   "source": [
    "Q5: What is Bernaulli Distribution? Give an Example. What is the difference between Bernoulli Distribution and Binomial Distribution?"
   ]
  },
  {
   "cell_type": "code",
   "execution_count": null,
   "id": "9920a86a-5101-453c-a417-0e65ec2846b9",
   "metadata": {},
   "outputs": [],
   "source": [
    "The Bernoulli distribution is a discrete probability distribution that models a single trial of a binary event, where the outcome is either a success (with probability p)\n",
    "or a failure (with probability 1-p). In other words, the Bernoulli distribution represents the probability of success or failure in a single trial.\n",
    "\n",
    "An example of a Bernoulli distribution is flipping a coin. If we define \"heads\" as a success and \"tails\" as a failure, then the probability of getting heads (p) is 0.5,\n",
    "and the probability of getting tails (1-p) is also 0.5. Thus, the Bernoulli distribution models the probability of getting heads or tails in a single coin flip.\n",
    "\n",
    "The binomial distribution, on the other hand, models the number of successes in a fixed number of independent Bernoulli trials.\n",
    "For example, if we flip a coin 10 times and count the number of heads, the binomial distribution can be used to model the probability of getting a certain number of heads out of 10 trials.\n",
    "\n",
    "The main difference between the Bernoulli and binomial distributions is that the Bernoulli distribution models a single trial,\n",
    "while the binomial distribution models multiple independent trials with the same probability of success.\n",
    "Additionally, the binomial distribution has two additional parameters: the number of trials and the probability of success in each trial."
   ]
  },
  {
   "cell_type": "code",
   "execution_count": null,
   "id": "ad45c0ec-f45b-4151-bf56-2e46482915a0",
   "metadata": {},
   "outputs": [],
   "source": []
  },
  {
   "cell_type": "code",
   "execution_count": null,
   "id": "f47f9d6f-cfa9-46d4-bc5f-1b680c0fdc22",
   "metadata": {},
   "outputs": [],
   "source": [
    "Q6: Consider a dataset with a mean of 50 and a standard deviation of 10. If we assume that the dataset is normally distributed, \n",
    "what is the probability that a randomly selected observation will be greater than 60? Use the appropriate formula and show your calculations."
   ]
  },
  {
   "cell_type": "code",
   "execution_count": null,
   "id": "f9c7d2f9-7605-429f-b78d-05ae2a8d8ee1",
   "metadata": {},
   "outputs": [],
   "source": [
    "The formula for the standard normal distribution is:\n",
    "\n",
    "z = (x - μ) / σ\n",
    "\n",
    "where x is the value we want to find the probability for, mu is the mean of the dataset, sigma is the standard deviation of the dataset, and z is the standardized normal random variable.\n",
    "\n",
    "To find the z-score for x = 60 in this dataset, we use the formula:\n",
    "\n",
    "z = (60 - 50) / 10 = 1\n",
    "\n",
    "So, the z-score for x = 60 is 1.\n",
    "\n",
    "Now, we can use a standard normal distribution table or calculator to find the probability of a z-score being greater than 1. From the table, we can find that the probability of a z-score being greater than 1 is approximately 0.1587.\n",
    "\n",
    "Therefore, the probability that a randomly selected observation from this dataset will be greater than 60 is approximately 0.1587 or 15.87%."
   ]
  },
  {
   "cell_type": "code",
   "execution_count": null,
   "id": "d6183a90-281c-4eb6-a6b3-b3a3e73f5852",
   "metadata": {},
   "outputs": [],
   "source": []
  },
  {
   "cell_type": "code",
   "execution_count": null,
   "id": "cc73e311-8046-4599-87bc-744a9ac81b62",
   "metadata": {},
   "outputs": [],
   "source": [
    "Q7: Explain uniform Distribution with an example."
   ]
  },
  {
   "cell_type": "code",
   "execution_count": null,
   "id": "9bf8c66c-7c82-469e-b10e-3c560c97cfd4",
   "metadata": {},
   "outputs": [],
   "source": [
    "The uniform distribution is a probability distribution that describes a situation where every value within a given range has an equal chance of being selected. \n",
    "It is often referred to as a \"rectangular distribution\" because the probability density function of a uniform distribution is a constant value within a specified interval.\n",
    "\n",
    "An example of a uniform distribution is the roll of a fair die. Assuming the die is fair, each face of the die has an equal chance of being rolled,\n",
    "and the outcome of any roll is independent of the outcomes of previous rolls. In this case, the range of possible values is 1 to 6,\n",
    "and each value has a probability of 1/6 of being rolled."
   ]
  },
  {
   "cell_type": "code",
   "execution_count": null,
   "id": "37d43844-2b2a-4568-bf31-1411f68657c4",
   "metadata": {},
   "outputs": [],
   "source": []
  },
  {
   "cell_type": "code",
   "execution_count": null,
   "id": "6feff3fd-b4aa-4d57-a791-32e8ef219e6b",
   "metadata": {},
   "outputs": [],
   "source": [
    "Q8: What is the z score? State the importance of the z score."
   ]
  },
  {
   "cell_type": "code",
   "execution_count": null,
   "id": "f3832cdb-f1b9-4ecb-8cee-a6171f02c58f",
   "metadata": {},
   "outputs": [],
   "source": [
    "The z-score is a statistical measure that describes the number of standard deviations an observation or data point is away from the mean of a dataset.\n",
    "It is calculated by subtracting the mean from the data point and then dividing the result by the standard deviation.\n",
    "\n",
    "The formula for calculating the z-score is:\n",
    "\n",
    "z = (x - μ) / σ\n",
    "\n",
    "where x is the observed data point, μ is the mean of the dataset, and σ is the standard deviation of the dataset.\n",
    "\n",
    "The z-score is important because it allows us to compare different observations or data points from different datasets that may have different means and standard deviations. \n",
    "By standardizing the data, we can convert them into a standard normal distribution with a mean of 0 and a standard deviation of \n",
    "1. This enables us to compare and analyze the data on a common scale."
   ]
  },
  {
   "cell_type": "code",
   "execution_count": null,
   "id": "253d4bc9-bbee-4f1e-9be8-ea5cd1cdfdc3",
   "metadata": {},
   "outputs": [],
   "source": []
  },
  {
   "cell_type": "code",
   "execution_count": null,
   "id": "b62c4f76-16cf-470c-8e63-e9659af2f951",
   "metadata": {},
   "outputs": [],
   "source": [
    "Q9: What is Central Limit Theorem? State the significance of the Central Limit Theorem."
   ]
  },
  {
   "cell_type": "code",
   "execution_count": null,
   "id": "b6a7a225-186c-4a46-b6e7-159471dd1c13",
   "metadata": {},
   "outputs": [],
   "source": [
    "The Central Limit Theorem (CLT) is a statistical concept that states that the sampling distribution of the mean of a sufficiently large sample from any population, \n",
    "regardless of its underlying distribution, will be approximately normal.\n",
    "\n",
    "In other words, if we take multiple random samples of size n from a population, calculate the mean of each sample, and plot the distribution of these means, \n",
    "then the resulting distribution will be approximately normal, regardless of the shape of the original population distribution.\n",
    "\n",
    "The CLT is significant for several reasons:\n",
    "\n",
    "1. It allows us to make inferences about a population based on a sample of data. By using the sample mean and standard deviation, \n",
    "we can estimate the population mean and standard deviation, and make predictions about the population.\n",
    "\n",
    "2. It is the foundation of many statistical techniques, such as hypothesis testing and confidence intervals,\n",
    "which rely on the assumption that the sampling distribution of the mean is approximately normal."
   ]
  },
  {
   "cell_type": "code",
   "execution_count": null,
   "id": "113b82d1-94f1-4d87-a60c-0f7461aba676",
   "metadata": {},
   "outputs": [],
   "source": []
  },
  {
   "cell_type": "code",
   "execution_count": null,
   "id": "504032e0-4181-4e8a-94b5-a5db2adf1561",
   "metadata": {},
   "outputs": [],
   "source": [
    "Q10: State the assumptions of the Central Limit Theorem."
   ]
  },
  {
   "cell_type": "code",
   "execution_count": null,
   "id": "94551ee2-2e07-4d56-8fa6-0d44d271f293",
   "metadata": {},
   "outputs": [],
   "source": [
    "The Central Limit Theorem (CLT) has some assumptions that must be met in order for it to hold true. These assumptions include:\n",
    "\n",
    "1. Independence: The sample observations must be independent of each other.\n",
    "\n",
    "2. Random Sampling: The sample observations must be collected using a random sampling method.\n",
    "\n",
    "3. Sample Size: The sample size must be large enough. A common rule of thumb is that the sample size should be at least 30. However,\n",
    "this number may vary depending on the underlying population distribution."
   ]
  },
  {
   "cell_type": "code",
   "execution_count": null,
   "id": "9e9d12b2-ccbd-4f9c-b802-d63c8e61c1c9",
   "metadata": {},
   "outputs": [],
   "source": []
  }
 ],
 "metadata": {
  "kernelspec": {
   "display_name": "Python 3 (ipykernel)",
   "language": "python",
   "name": "python3"
  },
  "language_info": {
   "codemirror_mode": {
    "name": "ipython",
    "version": 3
   },
   "file_extension": ".py",
   "mimetype": "text/x-python",
   "name": "python",
   "nbconvert_exporter": "python",
   "pygments_lexer": "ipython3",
   "version": "3.10.8"
  }
 },
 "nbformat": 4,
 "nbformat_minor": 5
}
