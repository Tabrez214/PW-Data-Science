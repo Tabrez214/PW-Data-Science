{
 "cells": [
  {
   "cell_type": "code",
   "execution_count": 4,
   "id": "46ceaffb-44c2-460a-9c03-8ff8b4016078",
   "metadata": {},
   "outputs": [],
   "source": [
    "t1 = (\"Tabrez\",1,5,56, 45, 45+4j)"
   ]
  },
  {
   "cell_type": "code",
   "execution_count": 5,
   "id": "63de9835-9442-47e7-bebe-5b2c77ade0a1",
   "metadata": {},
   "outputs": [
    {
     "name": "stdout",
     "output_type": "stream",
     "text": [
      "<class 'tuple'>\n"
     ]
    }
   ],
   "source": [
    "print(type(t1))"
   ]
  },
  {
   "cell_type": "code",
   "execution_count": 6,
   "id": "f9019bef-0611-49ce-8f85-4b4667f67301",
   "metadata": {},
   "outputs": [
    {
     "data": {
      "text/plain": [
       "tuple"
      ]
     },
     "execution_count": 6,
     "metadata": {},
     "output_type": "execute_result"
    }
   ],
   "source": [
    "type(t1)"
   ]
  },
  {
   "cell_type": "code",
   "execution_count": 11,
   "id": "4528b144-ba55-4631-905b-c83a32828452",
   "metadata": {},
   "outputs": [
    {
     "data": {
      "text/plain": [
       "((45+4j), 45, 56, 5, 1, 'Tabrez')"
      ]
     },
     "execution_count": 11,
     "metadata": {},
     "output_type": "execute_result"
    }
   ],
   "source": [
    "t1[::-1]"
   ]
  },
  {
   "cell_type": "code",
   "execution_count": 12,
   "id": "dc4963b3-797a-4194-ab49-7d8fccfa063f",
   "metadata": {},
   "outputs": [],
   "source": [
    "t1 = t1[::-1]"
   ]
  },
  {
   "cell_type": "code",
   "execution_count": 13,
   "id": "10b95de1-0f97-4811-8da8-4e5614ceafa0",
   "metadata": {},
   "outputs": [
    {
     "data": {
      "text/plain": [
       "((45+4j), 45, 56, 5, 1, 'Tabrez')"
      ]
     },
     "execution_count": 13,
     "metadata": {},
     "output_type": "execute_result"
    }
   ],
   "source": [
    "t1"
   ]
  },
  {
   "cell_type": "code",
   "execution_count": 14,
   "id": "a0289004-afad-4539-a226-90a2ec73e8d8",
   "metadata": {},
   "outputs": [
    {
     "data": {
      "text/plain": [
       "1"
      ]
     },
     "execution_count": 14,
     "metadata": {},
     "output_type": "execute_result"
    }
   ],
   "source": [
    "t1.count(5)"
   ]
  },
  {
   "cell_type": "code",
   "execution_count": 15,
   "id": "b84dd33c-aaf1-449e-8d5c-d012dec21aa1",
   "metadata": {},
   "outputs": [
    {
     "data": {
      "text/plain": [
       "2"
      ]
     },
     "execution_count": 15,
     "metadata": {},
     "output_type": "execute_result"
    }
   ],
   "source": [
    "t1.index(56)"
   ]
  },
  {
   "cell_type": "markdown",
   "id": "a7ee2d79-5900-48e5-b5a7-a9918574c20c",
   "metadata": {},
   "source": [
    "# Difference between list & tuple\n",
    "### in cas of list you can make changes\n",
    "### in case of tuple you cannot make changes"
   ]
  },
  {
   "cell_type": "code",
   "execution_count": 17,
   "id": "755c6cd8-2d5d-4d47-abf6-71ff690e68d6",
   "metadata": {},
   "outputs": [],
   "source": [
    "l1 = [0,1,5,6]"
   ]
  },
  {
   "cell_type": "code",
   "execution_count": 18,
   "id": "1e27f74a-3dda-4e25-aa56-577c8b8df77b",
   "metadata": {},
   "outputs": [
    {
     "data": {
      "text/plain": [
       "5"
      ]
     },
     "execution_count": 18,
     "metadata": {},
     "output_type": "execute_result"
    }
   ],
   "source": [
    "l1[2]"
   ]
  },
  {
   "cell_type": "code",
   "execution_count": 19,
   "id": "5ddb008d-d00b-43d2-b599-fcd398e806b4",
   "metadata": {},
   "outputs": [],
   "source": [
    "l1[2] = 12"
   ]
  },
  {
   "cell_type": "code",
   "execution_count": 20,
   "id": "fc5c169a-7d06-4ff5-84c9-b02b92c05897",
   "metadata": {},
   "outputs": [
    {
     "data": {
      "text/plain": [
       "[0, 1, 12, 6]"
      ]
     },
     "execution_count": 20,
     "metadata": {},
     "output_type": "execute_result"
    }
   ],
   "source": [
    "l1"
   ]
  },
  {
   "cell_type": "code",
   "execution_count": 16,
   "id": "67c55098-2219-487b-a373-8a1e898a6ecb",
   "metadata": {},
   "outputs": [
    {
     "data": {
      "text/plain": [
       "(45+4j)"
      ]
     },
     "execution_count": 16,
     "metadata": {},
     "output_type": "execute_result"
    }
   ],
   "source": [
    "t1[0]"
   ]
  },
  {
   "cell_type": "code",
   "execution_count": 21,
   "id": "f0c9aae8-d08a-434d-85d9-bf95a3e4e45d",
   "metadata": {},
   "outputs": [
    {
     "ename": "TypeError",
     "evalue": "'tuple' object does not support item assignment",
     "output_type": "error",
     "traceback": [
      "\u001b[0;31m---------------------------------------------------------------------------\u001b[0m",
      "\u001b[0;31mTypeError\u001b[0m                                 Traceback (most recent call last)",
      "Cell \u001b[0;32mIn[21], line 1\u001b[0m\n\u001b[0;32m----> 1\u001b[0m \u001b[43mt1\u001b[49m\u001b[43m[\u001b[49m\u001b[38;5;241;43m0\u001b[39;49m\u001b[43m]\u001b[49m \u001b[38;5;241m=\u001b[39m \u001b[38;5;241m54\u001b[39m\u001b[38;5;241m+\u001b[39m\u001b[38;5;241m11\u001b[39mj\n",
      "\u001b[0;31mTypeError\u001b[0m: 'tuple' object does not support item assignment"
     ]
    }
   ],
   "source": [
    "t1[0] = 54+11j"
   ]
  },
  {
   "cell_type": "code",
   "execution_count": 22,
   "id": "ce7d4483-b98b-40ae-8c5f-c3dd6c712222",
   "metadata": {},
   "outputs": [
    {
     "name": "stdout",
     "output_type": "stream",
     "text": [
      "(45+4j)\n",
      "45\n",
      "56\n",
      "5\n",
      "1\n",
      "Tabrez\n"
     ]
    }
   ],
   "source": [
    "for i in t1:\n",
    "    print(i)"
   ]
  },
  {
   "cell_type": "code",
   "execution_count": 23,
   "id": "71f9caa0-5227-4f16-948d-4f0cd3ee703e",
   "metadata": {},
   "outputs": [
    {
     "name": "stdout",
     "output_type": "stream",
     "text": [
      "<class 'complex'> (45+4j)\n",
      "<class 'int'> 45\n",
      "<class 'int'> 56\n",
      "<class 'int'> 5\n",
      "<class 'int'> 1\n",
      "<class 'str'> Tabrez\n"
     ]
    }
   ],
   "source": [
    "for i in t1:\n",
    "    print(type(i), i)"
   ]
  },
  {
   "cell_type": "code",
   "execution_count": 24,
   "id": "f9b7dd39-df4a-4273-9462-173d65419ded",
   "metadata": {},
   "outputs": [],
   "source": [
    "t2 = (3,5,6,3)"
   ]
  },
  {
   "cell_type": "code",
   "execution_count": 25,
   "id": "b96d13b9-5b6a-427b-b825-8a0e981d67ba",
   "metadata": {},
   "outputs": [
    {
     "data": {
      "text/plain": [
       "(3, 5, 6, 3)"
      ]
     },
     "execution_count": 25,
     "metadata": {},
     "output_type": "execute_result"
    }
   ],
   "source": [
    "t2"
   ]
  },
  {
   "cell_type": "code",
   "execution_count": 26,
   "id": "3f447c1f-fd3c-49ea-b72d-eee1a74a6e22",
   "metadata": {},
   "outputs": [
    {
     "data": {
      "text/plain": [
       "(3, 5, 6, 3, 3, 5, 6, 3, 3, 5, 6, 3)"
      ]
     },
     "execution_count": 26,
     "metadata": {},
     "output_type": "execute_result"
    }
   ],
   "source": [
    "t2 * 3"
   ]
  },
  {
   "cell_type": "code",
   "execution_count": 27,
   "id": "b87c83d0-849a-4cd4-bbfd-06826a36a7d4",
   "metadata": {},
   "outputs": [],
   "source": [
    "t3 = (t1,t2)"
   ]
  },
  {
   "cell_type": "code",
   "execution_count": 28,
   "id": "04fc1fd2-24df-4866-a6d0-c5e5442a1a17",
   "metadata": {},
   "outputs": [
    {
     "data": {
      "text/plain": [
       "(((45+4j), 45, 56, 5, 1, 'Tabrez'), (3, 5, 6, 3))"
      ]
     },
     "execution_count": 28,
     "metadata": {},
     "output_type": "execute_result"
    }
   ],
   "source": [
    "t3"
   ]
  },
  {
   "cell_type": "code",
   "execution_count": 29,
   "id": "f24491e4-af85-4016-97ac-4b6e8b7ae5d7",
   "metadata": {},
   "outputs": [],
   "source": [
    "t4 = (\"Fdfg\",5,6)"
   ]
  },
  {
   "cell_type": "code",
   "execution_count": 30,
   "id": "b17b3397-b636-4a4e-b5d2-6614ed3933a0",
   "metadata": {},
   "outputs": [
    {
     "data": {
      "text/plain": [
       "('Fdfg', 5, 6)"
      ]
     },
     "execution_count": 30,
     "metadata": {},
     "output_type": "execute_result"
    }
   ],
   "source": [
    "t4"
   ]
  },
  {
   "cell_type": "code",
   "execution_count": 31,
   "id": "a5dec934-a751-419d-af78-6890b5de8ba4",
   "metadata": {},
   "outputs": [],
   "source": [
    "del t4"
   ]
  },
  {
   "cell_type": "code",
   "execution_count": 32,
   "id": "415ada6e-7785-48bf-9b45-a905886c9cba",
   "metadata": {},
   "outputs": [
    {
     "ename": "NameError",
     "evalue": "name 't4' is not defined",
     "output_type": "error",
     "traceback": [
      "\u001b[0;31m---------------------------------------------------------------------------\u001b[0m",
      "\u001b[0;31mNameError\u001b[0m                                 Traceback (most recent call last)",
      "Cell \u001b[0;32mIn[32], line 1\u001b[0m\n\u001b[0;32m----> 1\u001b[0m \u001b[43mt4\u001b[49m\n",
      "\u001b[0;31mNameError\u001b[0m: name 't4' is not defined"
     ]
    }
   ],
   "source": [
    "t4"
   ]
  },
  {
   "cell_type": "code",
   "execution_count": 33,
   "id": "b28bd0bf-eab4-4538-933f-fca68d38688c",
   "metadata": {},
   "outputs": [
    {
     "data": {
      "text/plain": [
       "6"
      ]
     },
     "execution_count": 33,
     "metadata": {},
     "output_type": "execute_result"
    }
   ],
   "source": [
    "len(t1)"
   ]
  },
  {
   "cell_type": "code",
   "execution_count": 2,
   "id": "36c7a7e2-2c22-4edf-b047-e89124d1c8c7",
   "metadata": {},
   "outputs": [],
   "source": [
    "l1 = [1,1,1,5,6]"
   ]
  },
  {
   "cell_type": "code",
   "execution_count": 3,
   "id": "32643635-9a89-4979-b524-1b151d53d260",
   "metadata": {},
   "outputs": [
    {
     "data": {
      "text/plain": [
       "{1, 5, 6}"
      ]
     },
     "execution_count": 3,
     "metadata": {},
     "output_type": "execute_result"
    }
   ],
   "source": [
    "set(l1)"
   ]
  },
  {
   "cell_type": "markdown",
   "id": "9bb055a8-3352-4c92-b9a3-9b811976f1d7",
   "metadata": {},
   "source": [
    "# Dictionery"
   ]
  },
  {
   "cell_type": "code",
   "execution_count": 4,
   "id": "86921d83-37c0-4314-bc43-428b693c274a",
   "metadata": {},
   "outputs": [],
   "source": [
    "d = {}"
   ]
  },
  {
   "cell_type": "code",
   "execution_count": 5,
   "id": "fee8eaf3-9593-4c50-89a4-727e9dfe596d",
   "metadata": {},
   "outputs": [
    {
     "data": {
      "text/plain": [
       "dict"
      ]
     },
     "execution_count": 5,
     "metadata": {},
     "output_type": "execute_result"
    }
   ],
   "source": [
    "type(d)"
   ]
  },
  {
   "cell_type": "code",
   "execution_count": 6,
   "id": "4f00b26d-2f75-4d9d-bc9c-bff2669c96d6",
   "metadata": {},
   "outputs": [],
   "source": [
    "d1 = {\"name\":\"Tabrez\",\"Email\":\"Tshaikh214@gmail.com\",\"number\":7021492486}"
   ]
  },
  {
   "cell_type": "code",
   "execution_count": 7,
   "id": "021eba0a-b44b-40f1-abf0-03faab010c9c",
   "metadata": {},
   "outputs": [
    {
     "data": {
      "text/plain": [
       "dict"
      ]
     },
     "execution_count": 7,
     "metadata": {},
     "output_type": "execute_result"
    }
   ],
   "source": [
    "type(d1)"
   ]
  },
  {
   "cell_type": "code",
   "execution_count": 8,
   "id": "607357a4-0e19-4894-ae23-960593d764ee",
   "metadata": {},
   "outputs": [
    {
     "data": {
      "text/plain": [
       "{'name': 'Tabrez', 'Email': 'Tshaikh214@gmail.com', 'number': 7021492486}"
      ]
     },
     "execution_count": 8,
     "metadata": {},
     "output_type": "execute_result"
    }
   ],
   "source": [
    "d1"
   ]
  },
  {
   "cell_type": "markdown",
   "id": "5b39fcab-a9cc-4f46-8157-de40e7e065ca",
   "metadata": {},
   "source": [
    "### Whenever you're trying to create dictionery your key should always be different, because it'll take the latest key"
   ]
  },
  {
   "cell_type": "code",
   "execution_count": 9,
   "id": "77b27a37-acb5-4c62-937c-f5821730c00f",
   "metadata": {},
   "outputs": [],
   "source": [
    "d2 = {\"name\":\"tabrez\", \"name\" :\"Tabrez Shaikh\"}"
   ]
  },
  {
   "cell_type": "code",
   "execution_count": 11,
   "id": "51a35892-f289-4ae2-ac9a-8c174e04ea7e",
   "metadata": {},
   "outputs": [
    {
     "data": {
      "text/plain": [
       "{'name': 'Terez Shaikh'}"
      ]
     },
     "execution_count": 11,
     "metadata": {},
     "output_type": "execute_result"
    }
   ],
   "source": [
    "d2"
   ]
  },
  {
   "cell_type": "code",
   "execution_count": 12,
   "id": "19f92f5d-7272-462c-9a8f-5fd3186c4fcc",
   "metadata": {},
   "outputs": [
    {
     "ename": "TypeError",
     "evalue": "unhashable type: 'list'",
     "output_type": "error",
     "traceback": [
      "\u001b[0;31m---------------------------------------------------------------------------\u001b[0m",
      "\u001b[0;31mTypeError\u001b[0m                                 Traceback (most recent call last)",
      "Cell \u001b[0;32mIn[12], line 1\u001b[0m\n\u001b[0;32m----> 1\u001b[0m d3 \u001b[38;5;241m=\u001b[39m {[\u001b[38;5;241m1\u001b[39m,\u001b[38;5;241m2\u001b[39m,\u001b[38;5;241m5\u001b[39m,\u001b[38;5;241m6\u001b[39m] : \u001b[38;5;124m\"\u001b[39m\u001b[38;5;124mDAAD\u001b[39m\u001b[38;5;124m\"\u001b[39m}\n",
      "\u001b[0;31mTypeError\u001b[0m: unhashable type: 'list'"
     ]
    }
   ],
   "source": [
    "d3 = {[1,2,5,6] : \"DAAD\"}"
   ]
  },
  {
   "cell_type": "code",
   "execution_count": 13,
   "id": "046adcd7-9e12-4963-8537-f39ae2996a97",
   "metadata": {},
   "outputs": [],
   "source": [
    "d4 = {(1,5,7,8) : \"TAFS\"}"
   ]
  },
  {
   "cell_type": "code",
   "execution_count": 14,
   "id": "801bc815-fd89-42ff-832b-782cf8bee91c",
   "metadata": {},
   "outputs": [
    {
     "ename": "SyntaxError",
     "evalue": "invalid syntax (2931922266.py, line 1)",
     "output_type": "error",
     "traceback": [
      "\u001b[0;36m  Cell \u001b[0;32mIn[14], line 1\u001b[0;36m\u001b[0m\n\u001b[0;31m    d5 = {@ : \"TAFV\"}\u001b[0m\n\u001b[0m          ^\u001b[0m\n\u001b[0;31mSyntaxError\u001b[0m\u001b[0;31m:\u001b[0m invalid syntax\n"
     ]
    }
   ],
   "source": [
    "d5 = {@ : \"TAFV\"}"
   ]
  },
  {
   "cell_type": "code",
   "execution_count": 15,
   "id": "fca06e15-94ef-4d38-a57e-b58281130091",
   "metadata": {},
   "outputs": [
    {
     "ename": "SyntaxError",
     "evalue": "incomplete input (3313643897.py, line 1)",
     "output_type": "error",
     "traceback": [
      "\u001b[0;36m  Cell \u001b[0;32mIn[15], line 1\u001b[0;36m\u001b[0m\n\u001b[0;31m    d6 = {# : \"FDS\"}\u001b[0m\n\u001b[0m                    ^\u001b[0m\n\u001b[0;31mSyntaxError\u001b[0m\u001b[0;31m:\u001b[0m incomplete input\n"
     ]
    }
   ],
   "source": [
    "d6 = {# : \"FDS\"}"
   ]
  },
  {
   "cell_type": "code",
   "execution_count": 16,
   "id": "38330c6f-3326-4a29-910f-7795c836fab1",
   "metadata": {},
   "outputs": [],
   "source": [
    "d7 = {\"#\" : \"FDS\"}"
   ]
  },
  {
   "cell_type": "code",
   "execution_count": 17,
   "id": "eafc0a76-83d3-48b4-83d9-d293453f99e5",
   "metadata": {},
   "outputs": [
    {
     "ename": "TypeError",
     "evalue": "unhashable type: 'set'",
     "output_type": "error",
     "traceback": [
      "\u001b[0;31m---------------------------------------------------------------------------\u001b[0m",
      "\u001b[0;31mTypeError\u001b[0m                                 Traceback (most recent call last)",
      "Cell \u001b[0;32mIn[17], line 1\u001b[0m\n\u001b[0;32m----> 1\u001b[0m d8 \u001b[38;5;241m=\u001b[39m {{\u001b[38;5;124m\"\u001b[39m\u001b[38;5;124mFDSFF\u001b[39m\u001b[38;5;124m\"\u001b[39m,\u001b[38;5;241m1\u001b[39m,\u001b[38;5;241m5\u001b[39m} : \u001b[38;5;124m\"\u001b[39m\u001b[38;5;124mFD\u001b[39m\u001b[38;5;124m\"\u001b[39m}\n",
      "\u001b[0;31mTypeError\u001b[0m: unhashable type: 'set'"
     ]
    }
   ],
   "source": [
    "d8 = {{\"FDSFF\",1,5} : \"FD\"}"
   ]
  },
  {
   "cell_type": "code",
   "execution_count": 19,
   "id": "24fb8977-239a-4a28-bf51-21e0c4051d58",
   "metadata": {},
   "outputs": [],
   "source": [
    "d9 = {\"Course_name\" : [\"DataScience\",\"DataAnalysis\",\"Java\"]}"
   ]
  },
  {
   "cell_type": "code",
   "execution_count": 20,
   "id": "c7ec588b-cffb-4b2e-a8c3-675819435c5c",
   "metadata": {},
   "outputs": [
    {
     "data": {
      "text/plain": [
       "{'Course_name': ['DataScience', 'DataAnalysis', 'Java']}"
      ]
     },
     "execution_count": 20,
     "metadata": {},
     "output_type": "execute_result"
    }
   ],
   "source": [
    "d9"
   ]
  },
  {
   "cell_type": "code",
   "execution_count": 21,
   "id": "5fb65d09-9a70-4ca6-85ee-f53b36d3a304",
   "metadata": {},
   "outputs": [],
   "source": [
    "d10 = {\"Course_name\" : [\"DataScience\",\"DataAnalysis\",\"Java\"] , \"Class_mate\" : {\"Sahil\", \"Sufiyan\", \"Usama\"} , \"Start_Date\" : (28,1,23)}"
   ]
  },
  {
   "cell_type": "code",
   "execution_count": 22,
   "id": "55c4824c-bc94-417d-bc84-4938a2163ef6",
   "metadata": {},
   "outputs": [
    {
     "data": {
      "text/plain": [
       "{'Course_name': ['DataScience', 'DataAnalysis', 'Java'],\n",
       " 'Class_mate': {'Sahil', 'Sufiyan', 'Usama'},\n",
       " 'Start_Date': (28, 1, 23)}"
      ]
     },
     "execution_count": 22,
     "metadata": {},
     "output_type": "execute_result"
    }
   ],
   "source": [
    "d10"
   ]
  },
  {
   "cell_type": "code",
   "execution_count": 23,
   "id": "fb938631-eb33-443d-9b12-78c77b1de24a",
   "metadata": {},
   "outputs": [],
   "source": [
    "d10[\"Timing\"] = (4,6,8)"
   ]
  },
  {
   "cell_type": "code",
   "execution_count": 24,
   "id": "c6a9ace1-0883-450a-a095-7cc1840299af",
   "metadata": {},
   "outputs": [
    {
     "data": {
      "text/plain": [
       "{'Course_name': ['DataScience', 'DataAnalysis', 'Java'],\n",
       " 'Class_mate': {'Sahil', 'Sufiyan', 'Usama'},\n",
       " 'Start_Date': (28, 1, 23),\n",
       " 'Timing': (4, 6, 8)}"
      ]
     },
     "execution_count": 24,
     "metadata": {},
     "output_type": "execute_result"
    }
   ],
   "source": [
    "d10"
   ]
  },
  {
   "cell_type": "code",
   "execution_count": 25,
   "id": "0786553f-f352-43c3-a19f-87d7739197b1",
   "metadata": {},
   "outputs": [
    {
     "data": {
      "text/plain": [
       "{'Sahil', 'Sufiyan', 'Usama'}"
      ]
     },
     "execution_count": 25,
     "metadata": {},
     "output_type": "execute_result"
    }
   ],
   "source": [
    "d10[\"Class_mate\"]"
   ]
  },
  {
   "cell_type": "code",
   "execution_count": 26,
   "id": "25250358-0ed8-4245-b680-3f4cd3fcbb24",
   "metadata": {},
   "outputs": [],
   "source": [
    "d10['name'] = 'Tabrez'"
   ]
  },
  {
   "cell_type": "code",
   "execution_count": 27,
   "id": "4d63ab16-8702-4a1d-9e79-11a0b03257b9",
   "metadata": {},
   "outputs": [
    {
     "data": {
      "text/plain": [
       "{'Course_name': ['DataScience', 'DataAnalysis', 'Java'],\n",
       " 'Class_mate': {'Sahil', 'Sufiyan', 'Usama'},\n",
       " 'Start_Date': (28, 1, 23),\n",
       " 'Timing': (4, 6, 8),\n",
       " 'name': 'Tabrez'}"
      ]
     },
     "execution_count": 27,
     "metadata": {},
     "output_type": "execute_result"
    }
   ],
   "source": [
    "d10"
   ]
  },
  {
   "cell_type": "code",
   "execution_count": 29,
   "id": "dbb147e7-c77f-47f2-8efd-6623e13d06ca",
   "metadata": {},
   "outputs": [
    {
     "data": {
      "text/plain": [
       "'TABREZ'"
      ]
     },
     "execution_count": 29,
     "metadata": {},
     "output_type": "execute_result"
    }
   ],
   "source": [
    "d10['name'].upper()"
   ]
  },
  {
   "cell_type": "code",
   "execution_count": 31,
   "id": "be963076-f421-4b32-9c23-dd1678071770",
   "metadata": {},
   "outputs": [],
   "source": [
    "d11 = {'Key' : {'Courses' : \"DSA\"}}"
   ]
  },
  {
   "cell_type": "code",
   "execution_count": 32,
   "id": "7b56ce42-faf0-4b25-8a8d-86acc6c000f3",
   "metadata": {},
   "outputs": [
    {
     "data": {
      "text/plain": [
       "{'Key': {'Courses': 'DSA'}}"
      ]
     },
     "execution_count": 32,
     "metadata": {},
     "output_type": "execute_result"
    }
   ],
   "source": [
    "d11"
   ]
  },
  {
   "cell_type": "code",
   "execution_count": 33,
   "id": "fdcfbd50-16ee-48f7-884e-e2a4b19e622d",
   "metadata": {},
   "outputs": [
    {
     "data": {
      "text/plain": [
       "{'Courses': 'DSA'}"
      ]
     },
     "execution_count": 33,
     "metadata": {},
     "output_type": "execute_result"
    }
   ],
   "source": [
    "d11['Key']"
   ]
  },
  {
   "cell_type": "code",
   "execution_count": 34,
   "id": "4bac4d61-00aa-4c9e-87c9-561a666e5d27",
   "metadata": {},
   "outputs": [
    {
     "data": {
      "text/plain": [
       "dict"
      ]
     },
     "execution_count": 34,
     "metadata": {},
     "output_type": "execute_result"
    }
   ],
   "source": [
    "type(d11['Key'])"
   ]
  },
  {
   "cell_type": "code",
   "execution_count": 35,
   "id": "5b0b4647-3ccc-42ba-bf28-d6f9c0936989",
   "metadata": {},
   "outputs": [
    {
     "ename": "KeyError",
     "evalue": "'courses'",
     "output_type": "error",
     "traceback": [
      "\u001b[0;31m---------------------------------------------------------------------------\u001b[0m",
      "\u001b[0;31mKeyError\u001b[0m                                  Traceback (most recent call last)",
      "Cell \u001b[0;32mIn[35], line 1\u001b[0m\n\u001b[0;32m----> 1\u001b[0m \u001b[43md11\u001b[49m\u001b[43m[\u001b[49m\u001b[38;5;124;43m'\u001b[39;49m\u001b[38;5;124;43mKey\u001b[39;49m\u001b[38;5;124;43m'\u001b[39;49m\u001b[43m]\u001b[49m\u001b[43m[\u001b[49m\u001b[38;5;124;43m'\u001b[39;49m\u001b[38;5;124;43mcourses\u001b[39;49m\u001b[38;5;124;43m'\u001b[39;49m\u001b[43m]\u001b[49m\n",
      "\u001b[0;31mKeyError\u001b[0m: 'courses'"
     ]
    }
   ],
   "source": [
    "d11['Key']['courses']"
   ]
  },
  {
   "cell_type": "code",
   "execution_count": 37,
   "id": "46075677-b9cb-43bc-8c3a-39ce293d441a",
   "metadata": {},
   "outputs": [
    {
     "data": {
      "text/plain": [
       "'DSA'"
      ]
     },
     "execution_count": 37,
     "metadata": {},
     "output_type": "execute_result"
    }
   ],
   "source": [
    "d11['Key']['Courses']"
   ]
  },
  {
   "cell_type": "code",
   "execution_count": 38,
   "id": "c98a5a85-14eb-42e3-90e8-15623772e2e6",
   "metadata": {},
   "outputs": [],
   "source": [
    "d11['courses'] = 'Java'"
   ]
  },
  {
   "cell_type": "code",
   "execution_count": 39,
   "id": "c97d29bb-7027-4106-b2c2-9dd506137ebf",
   "metadata": {},
   "outputs": [
    {
     "data": {
      "text/plain": [
       "{'Key': {'Courses': 'DSA'}, 'courses': 'Java'}"
      ]
     },
     "execution_count": 39,
     "metadata": {},
     "output_type": "execute_result"
    }
   ],
   "source": [
    "d11"
   ]
  },
  {
   "cell_type": "code",
   "execution_count": 40,
   "id": "da00fca6-29f6-44db-bb74-ddfbfb4a1586",
   "metadata": {},
   "outputs": [],
   "source": [
    "del d11['courses']"
   ]
  },
  {
   "cell_type": "code",
   "execution_count": 41,
   "id": "579d5416-0fbf-4198-8926-6868bcef67d7",
   "metadata": {},
   "outputs": [
    {
     "data": {
      "text/plain": [
       "{'Key': {'Courses': 'DSA'}}"
      ]
     },
     "execution_count": 41,
     "metadata": {},
     "output_type": "execute_result"
    }
   ],
   "source": [
    "d11"
   ]
  },
  {
   "cell_type": "code",
   "execution_count": 42,
   "id": "55213b19-feeb-4dd7-8c48-d2e18756de18",
   "metadata": {},
   "outputs": [
    {
     "data": {
      "text/plain": [
       "5"
      ]
     },
     "execution_count": 42,
     "metadata": {},
     "output_type": "execute_result"
    }
   ],
   "source": [
    "len(d10)"
   ]
  },
  {
   "cell_type": "code",
   "execution_count": 43,
   "id": "0c539783-ace1-4fd3-8254-f6531bd108f1",
   "metadata": {},
   "outputs": [
    {
     "data": {
      "text/plain": [
       "{'Course_name': ['DataScience', 'DataAnalysis', 'Java'],\n",
       " 'Class_mate': {'Sahil', 'Sufiyan', 'Usama'},\n",
       " 'Start_Date': (28, 1, 23),\n",
       " 'Timing': (4, 6, 8),\n",
       " 'name': 'Tabrez'}"
      ]
     },
     "execution_count": 43,
     "metadata": {},
     "output_type": "execute_result"
    }
   ],
   "source": [
    "d10"
   ]
  },
  {
   "cell_type": "code",
   "execution_count": 44,
   "id": "32fd4fd4-0b79-4d28-8142-833f33cb4502",
   "metadata": {},
   "outputs": [
    {
     "data": {
      "text/plain": [
       "dict_keys(['Course_name', 'Class_mate', 'Start_Date', 'Timing', 'name'])"
      ]
     },
     "execution_count": 44,
     "metadata": {},
     "output_type": "execute_result"
    }
   ],
   "source": [
    "d10.keys()"
   ]
  },
  {
   "cell_type": "code",
   "execution_count": 45,
   "id": "c8e5cf0e-e91a-444c-b323-4b6aaf154a8d",
   "metadata": {},
   "outputs": [
    {
     "data": {
      "text/plain": [
       "dict_values([['DataScience', 'DataAnalysis', 'Java'], {'Sufiyan', 'Usama', 'Sahil'}, (28, 1, 23), (4, 6, 8), 'Tabrez'])"
      ]
     },
     "execution_count": 45,
     "metadata": {},
     "output_type": "execute_result"
    }
   ],
   "source": [
    "d10.values()"
   ]
  },
  {
   "cell_type": "code",
   "execution_count": 46,
   "id": "e44cdef7-568d-4c94-827b-7fdd05fd30f7",
   "metadata": {},
   "outputs": [
    {
     "data": {
      "text/plain": [
       "['Course_name', 'Class_mate', 'Start_Date', 'Timing', 'name']"
      ]
     },
     "execution_count": 46,
     "metadata": {},
     "output_type": "execute_result"
    }
   ],
   "source": [
    "list(d10.keys())"
   ]
  },
  {
   "cell_type": "code",
   "execution_count": 47,
   "id": "f9de1ea7-2d79-4170-8a37-d2b5b91c3516",
   "metadata": {},
   "outputs": [
    {
     "data": {
      "text/plain": [
       "[['DataScience', 'DataAnalysis', 'Java'],\n",
       " {'Sahil', 'Sufiyan', 'Usama'},\n",
       " (28, 1, 23),\n",
       " (4, 6, 8),\n",
       " 'Tabrez']"
      ]
     },
     "execution_count": 47,
     "metadata": {},
     "output_type": "execute_result"
    }
   ],
   "source": [
    "list(d10.values())"
   ]
  },
  {
   "cell_type": "code",
   "execution_count": 48,
   "id": "9f2013b1-a95d-4a52-b95c-60e953b0a7ee",
   "metadata": {},
   "outputs": [
    {
     "data": {
      "text/plain": [
       "[('Course_name', ['DataScience', 'DataAnalysis', 'Java']),\n",
       " ('Class_mate', {'Sahil', 'Sufiyan', 'Usama'}),\n",
       " ('Start_Date', (28, 1, 23)),\n",
       " ('Timing', (4, 6, 8)),\n",
       " ('name', 'Tabrez')]"
      ]
     },
     "execution_count": 48,
     "metadata": {},
     "output_type": "execute_result"
    }
   ],
   "source": [
    "list(d10.items())"
   ]
  },
  {
   "cell_type": "code",
   "execution_count": 4,
   "id": "2cec079c-81a0-47e1-b607-b731e4ea31bb",
   "metadata": {},
   "outputs": [],
   "source": [
    "d10 = {'Course_name': ['DataScience', 'DataAnalysis', 'Java'],\n",
    " 'Class_mate': {'Sahil', 'Sufiyan', 'Usama'},\n",
    " 'Start_Date': (28, 1, 23),\n",
    " 'Timing': (4, 6, 8),\n",
    " 'name': 'Tabrez'}"
   ]
  },
  {
   "cell_type": "code",
   "execution_count": 5,
   "id": "285372d9-11e3-4671-8590-08f91119e83b",
   "metadata": {},
   "outputs": [
    {
     "data": {
      "text/plain": [
       "{'Course_name': ['DataScience', 'DataAnalysis', 'Java'],\n",
       " 'Class_mate': {'Sahil', 'Sufiyan', 'Usama'},\n",
       " 'Start_Date': (28, 1, 23),\n",
       " 'Timing': (4, 6, 8),\n",
       " 'name': 'Tabrez'}"
      ]
     },
     "execution_count": 5,
     "metadata": {},
     "output_type": "execute_result"
    }
   ],
   "source": [
    "d10"
   ]
  },
  {
   "cell_type": "code",
   "execution_count": 6,
   "id": "49548e12-40f9-42c0-b2c2-d4b17cb3dec9",
   "metadata": {},
   "outputs": [],
   "source": [
    "d11 = d10.copy()"
   ]
  },
  {
   "cell_type": "code",
   "execution_count": 7,
   "id": "db66e0c9-bbc1-467c-8430-1b33c98940e3",
   "metadata": {},
   "outputs": [
    {
     "data": {
      "text/plain": [
       "{'Course_name': ['DataScience', 'DataAnalysis', 'Java'],\n",
       " 'Class_mate': {'Sahil', 'Sufiyan', 'Usama'},\n",
       " 'Start_Date': (28, 1, 23),\n",
       " 'Timing': (4, 6, 8),\n",
       " 'name': 'Tabrez'}"
      ]
     },
     "execution_count": 7,
     "metadata": {},
     "output_type": "execute_result"
    }
   ],
   "source": [
    "d11"
   ]
  },
  {
   "cell_type": "code",
   "execution_count": 8,
   "id": "79f744cd-93e0-479b-905d-e3f03749b96d",
   "metadata": {},
   "outputs": [],
   "source": [
    "del d10['name']"
   ]
  },
  {
   "cell_type": "code",
   "execution_count": 9,
   "id": "d492451a-7985-431b-95db-3f4365ee2e64",
   "metadata": {},
   "outputs": [
    {
     "data": {
      "text/plain": [
       "{'Course_name': ['DataScience', 'DataAnalysis', 'Java'],\n",
       " 'Class_mate': {'Sahil', 'Sufiyan', 'Usama'},\n",
       " 'Start_Date': (28, 1, 23),\n",
       " 'Timing': (4, 6, 8)}"
      ]
     },
     "execution_count": 9,
     "metadata": {},
     "output_type": "execute_result"
    }
   ],
   "source": [
    "d10"
   ]
  },
  {
   "cell_type": "code",
   "execution_count": 10,
   "id": "0fe09c7b-fee3-4ca6-9070-a72d539eaaf3",
   "metadata": {},
   "outputs": [
    {
     "data": {
      "text/plain": [
       "{'Course_name': ['DataScience', 'DataAnalysis', 'Java'],\n",
       " 'Class_mate': {'Sahil', 'Sufiyan', 'Usama'},\n",
       " 'Start_Date': (28, 1, 23),\n",
       " 'Timing': (4, 6, 8),\n",
       " 'name': 'Tabrez'}"
      ]
     },
     "execution_count": 10,
     "metadata": {},
     "output_type": "execute_result"
    }
   ],
   "source": [
    "d11"
   ]
  },
  {
   "cell_type": "code",
   "execution_count": 11,
   "id": "02da259a-3ff8-4d89-8108-50bcee798d32",
   "metadata": {},
   "outputs": [],
   "source": [
    "d12 = d10"
   ]
  },
  {
   "cell_type": "code",
   "execution_count": 12,
   "id": "4c06eec2-6ccd-4588-b167-3eeacf0c2bf8",
   "metadata": {},
   "outputs": [
    {
     "data": {
      "text/plain": [
       "{'Course_name': ['DataScience', 'DataAnalysis', 'Java'],\n",
       " 'Class_mate': {'Sahil', 'Sufiyan', 'Usama'},\n",
       " 'Start_Date': (28, 1, 23),\n",
       " 'Timing': (4, 6, 8)}"
      ]
     },
     "execution_count": 12,
     "metadata": {},
     "output_type": "execute_result"
    }
   ],
   "source": [
    "d12"
   ]
  },
  {
   "cell_type": "code",
   "execution_count": 13,
   "id": "c4119e00-34b9-41f5-b399-d212e28fab5a",
   "metadata": {},
   "outputs": [],
   "source": [
    "d10['name'] = \"Tabrez\""
   ]
  },
  {
   "cell_type": "code",
   "execution_count": 14,
   "id": "f0fc83ce-4564-4d74-ba77-d10b1f501aba",
   "metadata": {},
   "outputs": [
    {
     "data": {
      "text/plain": [
       "{'Course_name': ['DataScience', 'DataAnalysis', 'Java'],\n",
       " 'Class_mate': {'Sahil', 'Sufiyan', 'Usama'},\n",
       " 'Start_Date': (28, 1, 23),\n",
       " 'Timing': (4, 6, 8),\n",
       " 'name': 'Tabrez'}"
      ]
     },
     "execution_count": 14,
     "metadata": {},
     "output_type": "execute_result"
    }
   ],
   "source": [
    "d10"
   ]
  },
  {
   "cell_type": "code",
   "execution_count": 15,
   "id": "0e74197c-9c06-4469-92e6-72178fdf6127",
   "metadata": {},
   "outputs": [
    {
     "data": {
      "text/plain": [
       "{'Course_name': ['DataScience', 'DataAnalysis', 'Java'],\n",
       " 'Class_mate': {'Sahil', 'Sufiyan', 'Usama'},\n",
       " 'Start_Date': (28, 1, 23),\n",
       " 'Timing': (4, 6, 8),\n",
       " 'name': 'Tabrez'}"
      ]
     },
     "execution_count": 15,
     "metadata": {},
     "output_type": "execute_result"
    }
   ],
   "source": [
    "d11"
   ]
  },
  {
   "cell_type": "code",
   "execution_count": 16,
   "id": "59c27d69-2b0c-4b17-8d9d-54bb7485f54a",
   "metadata": {},
   "outputs": [
    {
     "data": {
      "text/plain": [
       "{'Course_name': ['DataScience', 'DataAnalysis', 'Java'],\n",
       " 'Class_mate': {'Sahil', 'Sufiyan', 'Usama'},\n",
       " 'Start_Date': (28, 1, 23),\n",
       " 'Timing': (4, 6, 8),\n",
       " 'name': 'Tabrez'}"
      ]
     },
     "execution_count": 16,
     "metadata": {},
     "output_type": "execute_result"
    }
   ],
   "source": [
    "d12"
   ]
  },
  {
   "cell_type": "code",
   "execution_count": 17,
   "id": "d6bddee7-cb8d-43ec-9778-21553fe17c72",
   "metadata": {},
   "outputs": [
    {
     "ename": "TypeError",
     "evalue": "pop expected at least 1 argument, got 0",
     "output_type": "error",
     "traceback": [
      "\u001b[0;31m---------------------------------------------------------------------------\u001b[0m",
      "\u001b[0;31mTypeError\u001b[0m                                 Traceback (most recent call last)",
      "Cell \u001b[0;32mIn[17], line 1\u001b[0m\n\u001b[0;32m----> 1\u001b[0m \u001b[43md12\u001b[49m\u001b[38;5;241;43m.\u001b[39;49m\u001b[43mpop\u001b[49m\u001b[43m(\u001b[49m\u001b[43m)\u001b[49m\n",
      "\u001b[0;31mTypeError\u001b[0m: pop expected at least 1 argument, got 0"
     ]
    }
   ],
   "source": [
    "d12.pop()"
   ]
  },
  {
   "cell_type": "code",
   "execution_count": 18,
   "id": "eb9eb2fb-80da-4cf0-a7da-a3b21b5b9747",
   "metadata": {},
   "outputs": [
    {
     "data": {
      "text/plain": [
       "(4, 6, 8)"
      ]
     },
     "execution_count": 18,
     "metadata": {},
     "output_type": "execute_result"
    }
   ],
   "source": [
    "d12.pop('Timing')"
   ]
  },
  {
   "cell_type": "code",
   "execution_count": 19,
   "id": "3df2af8a-2fa8-400b-a1e9-5460a0eaad35",
   "metadata": {},
   "outputs": [
    {
     "data": {
      "text/plain": [
       "{'Course_name': ['DataScience', 'DataAnalysis', 'Java'],\n",
       " 'Class_mate': {'Sahil', 'Sufiyan', 'Usama'},\n",
       " 'Start_Date': (28, 1, 23),\n",
       " 'name': 'Tabrez'}"
      ]
     },
     "execution_count": 19,
     "metadata": {},
     "output_type": "execute_result"
    }
   ],
   "source": [
    "d12"
   ]
  },
  {
   "cell_type": "code",
   "execution_count": 21,
   "id": "32edff48-ec12-4c37-b858-0b8dd8be37df",
   "metadata": {},
   "outputs": [],
   "source": [
    "d = 1"
   ]
  },
  {
   "cell_type": "code",
   "execution_count": 22,
   "id": "83db1a93-a84e-4587-ab81-98ab5853bc63",
   "metadata": {},
   "outputs": [
    {
     "ename": "AttributeError",
     "evalue": "'int' object has no attribute 'fromkeys'",
     "output_type": "error",
     "traceback": [
      "\u001b[0;31m---------------------------------------------------------------------------\u001b[0m",
      "\u001b[0;31mAttributeError\u001b[0m                            Traceback (most recent call last)",
      "Cell \u001b[0;32mIn[22], line 1\u001b[0m\n\u001b[0;32m----> 1\u001b[0m \u001b[43md\u001b[49m\u001b[38;5;241;43m.\u001b[39;49m\u001b[43mfromkeys\u001b[49m((\u001b[38;5;241m1\u001b[39m,\u001b[38;5;241m2\u001b[39m,\u001b[38;5;241m3\u001b[39m) , (\u001b[38;5;124m\"\u001b[39m\u001b[38;5;124ma\u001b[39m\u001b[38;5;124m\"\u001b[39m, \u001b[38;5;124m'\u001b[39m\u001b[38;5;124mb\u001b[39m\u001b[38;5;124m'\u001b[39m, \u001b[38;5;124m'\u001b[39m\u001b[38;5;124mv\u001b[39m\u001b[38;5;124m'\u001b[39m))\n",
      "\u001b[0;31mAttributeError\u001b[0m: 'int' object has no attribute 'fromkeys'"
     ]
    }
   ],
   "source": [
    "d.fromkeys((1,2,3) , (\"a\", 'b', 'v'))"
   ]
  },
  {
   "cell_type": "code",
   "execution_count": 28,
   "id": "a80e2f72-0eed-46fc-96c4-fbfe7a6e81ec",
   "metadata": {},
   "outputs": [],
   "source": [
    "d19 = {\"key1\" : \"values\" , \"key2\" : \"value2\"}\n",
    "d20 = {\"key3\" : \"value3\" , \"key4\" : \"value4\"}"
   ]
  },
  {
   "cell_type": "code",
   "execution_count": 29,
   "id": "17cbe71a-ba86-495e-bf24-1c84bdd1f42c",
   "metadata": {},
   "outputs": [
    {
     "data": {
      "text/plain": [
       "({'key1': 'values', 'key2': 'value2'}, {'key3': 'value3', 'key4': 'value4'})"
      ]
     },
     "execution_count": 29,
     "metadata": {},
     "output_type": "execute_result"
    }
   ],
   "source": [
    "d19,d20"
   ]
  },
  {
   "cell_type": "code",
   "execution_count": 30,
   "id": "7c12fc99-5cfd-4c41-9cb5-6f2b82468f32",
   "metadata": {},
   "outputs": [],
   "source": [
    "d19.update(d20)"
   ]
  },
  {
   "cell_type": "code",
   "execution_count": 31,
   "id": "5a72b219-e72a-44b3-8406-5ee7b98afe64",
   "metadata": {},
   "outputs": [
    {
     "data": {
      "text/plain": [
       "{'key1': 'values', 'key2': 'value2', 'key3': 'value3', 'key4': 'value4'}"
      ]
     },
     "execution_count": 31,
     "metadata": {},
     "output_type": "execute_result"
    }
   ],
   "source": [
    "d19"
   ]
  },
  {
   "cell_type": "code",
   "execution_count": 32,
   "id": "65e045be-b548-404f-a813-0f68a762fbc0",
   "metadata": {},
   "outputs": [
    {
     "data": {
      "text/plain": [
       "{'key3': 'value3', 'key4': 'value4'}"
      ]
     },
     "execution_count": 32,
     "metadata": {},
     "output_type": "execute_result"
    }
   ],
   "source": [
    "d20"
   ]
  },
  {
   "cell_type": "code",
   "execution_count": 35,
   "id": "bb1a5da3-a814-4250-98f9-4779ff4e6718",
   "metadata": {},
   "outputs": [],
   "source": [
    "d20.update(d19)"
   ]
  },
  {
   "cell_type": "code",
   "execution_count": 36,
   "id": "ec26b2a0-82f3-4ac6-af41-5bb7cda6b6bf",
   "metadata": {},
   "outputs": [
    {
     "data": {
      "text/plain": [
       "{'key3': 'value3', 'key4': 'value4', 'key1': 'values', 'key2': 'value2'}"
      ]
     },
     "execution_count": 36,
     "metadata": {},
     "output_type": "execute_result"
    }
   ],
   "source": [
    "d20"
   ]
  },
  {
   "cell_type": "code",
   "execution_count": 38,
   "id": "2f2459e2-85c7-44b1-8e79-7eb622ee455e",
   "metadata": {},
   "outputs": [
    {
     "data": {
      "text/plain": [
       "'values'"
      ]
     },
     "execution_count": 38,
     "metadata": {},
     "output_type": "execute_result"
    }
   ],
   "source": [
    "d20.get('key1')"
   ]
  },
  {
   "cell_type": "code",
   "execution_count": 42,
   "id": "971841a1-32a9-49d0-916a-290673db240e",
   "metadata": {},
   "outputs": [
    {
     "data": {
      "text/plain": [
       "'values'"
      ]
     },
     "execution_count": 42,
     "metadata": {},
     "output_type": "execute_result"
    }
   ],
   "source": [
    "d20['key1']"
   ]
  },
  {
   "cell_type": "code",
   "execution_count": 61,
   "id": "947daaac-6434-4b42-b3d3-13ebcd436963",
   "metadata": {},
   "outputs": [
    {
     "data": {
      "text/plain": [
       "{1: 1, 2: 4, 3: 9, 4: 16, 5: 25, 6: 36, 7: 49, 8: 64, 9: 81, 10: 100}"
      ]
     },
     "execution_count": 61,
     "metadata": {},
     "output_type": "execute_result"
    }
   ],
   "source": [
    "{i:i**2 for i in range(1,11)}\n"
   ]
  },
  {
   "cell_type": "code",
   "execution_count": 55,
   "id": "97b27109-2c65-49bc-abf5-095836a9f5e7",
   "metadata": {},
   "outputs": [
    {
     "data": {
      "text/plain": [
       "{1: 3, 3: 5, 5: 7, 7: 9, 9: 11}"
      ]
     },
     "execution_count": 55,
     "metadata": {},
     "output_type": "execute_result"
    }
   ],
   "source": [
    "{i:i + 2 for i in range(1,11,2)}\n"
   ]
  },
  {
   "cell_type": "code",
   "execution_count": 57,
   "id": "e857062d-834e-48a2-b431-92b6bf844fa7",
   "metadata": {},
   "outputs": [
    {
     "data": {
      "text/plain": [
       "[1, 4, 7, 10, 13]"
      ]
     },
     "execution_count": 57,
     "metadata": {},
     "output_type": "execute_result"
    }
   ],
   "source": [
    "list(range(1,16,3))"
   ]
  },
  {
   "cell_type": "code",
   "execution_count": 58,
   "id": "23d2ce73-660d-4af4-a777-00f583325b42",
   "metadata": {},
   "outputs": [
    {
     "data": {
      "text/plain": [
       "{'Course_name': ['DataScience', 'DataAnalysis', 'Java'],\n",
       " 'Class_mate': {'Sahil', 'Sufiyan', 'Usama'},\n",
       " 'Start_Date': (28, 1, 23),\n",
       " 'name': 'Tabrez'}"
      ]
     },
     "execution_count": 58,
     "metadata": {},
     "output_type": "execute_result"
    }
   ],
   "source": [
    "d10"
   ]
  },
  {
   "cell_type": "code",
   "execution_count": 59,
   "id": "b89a0e87-871a-4e75-a000-12563661c9c9",
   "metadata": {},
   "outputs": [
    {
     "data": {
      "text/plain": [
       "True"
      ]
     },
     "execution_count": 59,
     "metadata": {},
     "output_type": "execute_result"
    }
   ],
   "source": [
    "'Start_Date' in d10"
   ]
  },
  {
   "cell_type": "code",
   "execution_count": 66,
   "id": "0b7fedc4-c1f4-4bcd-88bf-8f159575fd86",
   "metadata": {},
   "outputs": [],
   "source": [
    "d22 = {1: 1, 2: 4, 3: 9, 4: 16, 5: 25, 6: 36, 7: 49, 8: 64, 9: 81, 10: 100}"
   ]
  },
  {
   "cell_type": "code",
   "execution_count": 64,
   "id": "56b24d5e-6917-4383-bcbd-63bd85658b49",
   "metadata": {},
   "outputs": [
    {
     "ename": "TypeError",
     "evalue": "'dict' object cannot be interpreted as an integer",
     "output_type": "error",
     "traceback": [
      "\u001b[0;31m---------------------------------------------------------------------------\u001b[0m",
      "\u001b[0;31mTypeError\u001b[0m                                 Traceback (most recent call last)",
      "Cell \u001b[0;32mIn[64], line 1\u001b[0m\n\u001b[0;32m----> 1\u001b[0m \u001b[38;5;28;01mfor\u001b[39;00m i \u001b[38;5;129;01min\u001b[39;00m \u001b[38;5;28;43mrange\u001b[39;49m\u001b[43m(\u001b[49m\u001b[43md22\u001b[49m\u001b[43m)\u001b[49m\u001b[38;5;241m.\u001b[39mkeys():\n\u001b[1;32m      2\u001b[0m     \u001b[38;5;28;01mif\u001b[39;00m i \u001b[38;5;241m%\u001b[39m \u001b[38;5;241m2\u001b[39m \u001b[38;5;241m==\u001b[39m \u001b[38;5;241m0\u001b[39m:\n\u001b[1;32m      3\u001b[0m         \u001b[38;5;28mprint\u001b[39m(d22[i])\n",
      "\u001b[0;31mTypeError\u001b[0m: 'dict' object cannot be interpreted as an integer"
     ]
    }
   ],
   "source": [
    "for i in range(d22).keys():\n",
    "    if i % 2 == 0:\n",
    "        print(d22[i])"
   ]
  },
  {
   "cell_type": "code",
   "execution_count": null,
   "id": "8a85e071-5dc4-4857-9273-406814f8b2f5",
   "metadata": {},
   "outputs": [],
   "source": []
  }
 ],
 "metadata": {
  "kernelspec": {
   "display_name": "Python 3 (ipykernel)",
   "language": "python",
   "name": "python3"
  },
  "language_info": {
   "codemirror_mode": {
    "name": "ipython",
    "version": 3
   },
   "file_extension": ".py",
   "mimetype": "text/x-python",
   "name": "python",
   "nbconvert_exporter": "python",
   "pygments_lexer": "ipython3",
   "version": "3.10.8"
  }
 },
 "nbformat": 4,
 "nbformat_minor": 5
}
