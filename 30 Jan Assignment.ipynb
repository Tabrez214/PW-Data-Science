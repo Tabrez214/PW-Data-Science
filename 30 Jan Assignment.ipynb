{
 "cells": [
  {
   "cell_type": "code",
   "execution_count": 12,
   "id": "7dc28a45-f941-409b-a0f9-ae71a1d2fa47",
   "metadata": {},
   "outputs": [
    {
     "name": "stdin",
     "output_type": "stream",
     "text": [
      "Enter your percentage:  60\n"
     ]
    },
    {
     "name": "stdout",
     "output_type": "stream",
     "text": [
      "Grade C\n"
     ]
    }
   ],
   "source": [
    "# Ans.1\n",
    "percentage = int(input(\"Enter your percentage: \"))\n",
    "if percentage > 100 or percentage < 0:\n",
    "    print(\"Invalid percentage. Please enter a value between 0 and 100.\")\n",
    "else:\n",
    "    if percentage > 90:\n",
    "        print(\"Grade A\")\n",
    "    elif percentage > 80 and percentage <= 90:\n",
    "        print(\"Grade B\")\n",
    "    elif percentage >= 60 and percentage <= 80:\n",
    "        print(\"Grade C\")\n",
    "    else:\n",
    "        print(\"Grade D\")"
   ]
  },
  {
   "cell_type": "code",
   "execution_count": 3,
   "id": "e0de6e8d-7f9f-4d33-8741-02aa16190876",
   "metadata": {},
   "outputs": [
    {
     "name": "stdin",
     "output_type": "stream",
     "text": [
      "Enter the price of your bike  500000\n"
     ]
    },
    {
     "name": "stdout",
     "output_type": "stream",
     "text": [
      "Your road tax amount is:  75000\n"
     ]
    }
   ],
   "source": [
    "# Ans2\n",
    "cost_price = int(input(\"Enter the price of your bike \"))\n",
    "if cost_price > 100000:\n",
    "    print(\"Your road tax amount is: \", int(cost_price * 0.15))\n",
    "elif cost_price > 50000 and cost_price <= 100000:\n",
    "    print(\"Your road tax amount is: \", int(cost_price * 0.10))\n",
    "else :\n",
    "    print(\"Your road tax amount is: \", int(cost_price * 0.05))   "
   ]
  },
  {
   "cell_type": "code",
   "execution_count": null,
   "id": "6b26d724-df13-4b94-ab17-b4fe56a5e475",
   "metadata": {},
   "outputs": [],
   "source": []
  },
  {
   "cell_type": "code",
   "execution_count": 4,
   "id": "845eaa48-34e2-43cf-8d98-1623774688c8",
   "metadata": {},
   "outputs": [
    {
     "name": "stdin",
     "output_type": "stream",
     "text": [
      "Enter city name (Delhi, Agra, Jaipur):  Delhi\n"
     ]
    },
    {
     "name": "stdout",
     "output_type": "stream",
     "text": [
      "The monument of Delhi is Red Fort\n"
     ]
    }
   ],
   "source": [
    "#Ans. 3\n",
    "\n",
    "city = input(\"Enter city name (Delhi, Agra, Jaipur): \")\n",
    "\n",
    "city = city.lower()\n",
    "\n",
    "if city == \"delhi\":\n",
    "    print(\"The monument of Delhi is Red Fort\")\n",
    "\n",
    "elif city == \"agra\":\n",
    "    print(\"The monument of Agra is Taj Mahal\")\n",
    "\n",
    "elif city == \"jaipur\":\n",
    "    print(\"The monument of Agra is Jal Mahal\")\n",
    "\n",
    "else:\n",
    "    print(\"The city that you have entered is not recognised\")"
   ]
  },
  {
   "cell_type": "code",
   "execution_count": null,
   "id": "1bde5f53-3f92-4137-956a-ce0219b81725",
   "metadata": {},
   "outputs": [],
   "source": []
  },
  {
   "cell_type": "code",
   "execution_count": 12,
   "id": "17e7a59f-cabe-401f-b2b9-fdaf0e1d8032",
   "metadata": {},
   "outputs": [
    {
     "name": "stdin",
     "output_type": "stream",
     "text": [
      "Enter a number less than or equal to 10:  6\n"
     ]
    },
    {
     "name": "stdout",
     "output_type": "stream",
     "text": [
      "The number can be divided by 3 1 times\n"
     ]
    }
   ],
   "source": [
    "# Ans.4\n",
    "number = int(input(\"Enter a number less than or equal to 10: \"))\n",
    "\n",
    "if number <= 10:\n",
    "    count = 0\n",
    "    while number % 3 == 0 and number !=0:\n",
    "        count += 1\n",
    "        number = number / 3\n",
    "    print(\"The number can be divided by 3 {} times\".format(count))\n",
    "else:\n",
    "    print(\"The number you entered is greater than 10.\")\n"
   ]
  },
  {
   "cell_type": "code",
   "execution_count": null,
   "id": "1513c18c-6c70-4be0-9e40-154f4f5dac11",
   "metadata": {},
   "outputs": [],
   "source": []
  },
  {
   "cell_type": "code",
   "execution_count": null,
   "id": "8c505d1a-793f-403c-8bb9-9a096fd1a73e",
   "metadata": {},
   "outputs": [],
   "source": [
    "#Ans. 5\n",
    "A while loop is a control flow statement that allows code to be executed repeatedly based on a given condition. \n",
    "The condition is checked before each iteration, and if the condition is true, the code inside the loop will be executed. \n",
    "Once the condition becomes false, the loop will terminate and the program will continue with the next statement after the loop.\n",
    "A while loop is useful when you want to repeat a certain action an unknown number of times, as long as a certain condition is met. \n",
    "For example, you can use a while loop to repeatedly prompt a user for input until they provide a valid answer."
   ]
  },
  {
   "cell_type": "code",
   "execution_count": 13,
   "id": "b4a8a6e5-9ca9-4311-96ab-a62d38066ebf",
   "metadata": {},
   "outputs": [
    {
     "name": "stdin",
     "output_type": "stream",
     "text": [
      "Enter a positive integer:  -5\n"
     ]
    },
    {
     "name": "stdout",
     "output_type": "stream",
     "text": [
      "Invalid input. Please enter a positive integer.\n"
     ]
    },
    {
     "name": "stdin",
     "output_type": "stream",
     "text": [
      "Enter a positive integer:  11\n"
     ]
    },
    {
     "name": "stdout",
     "output_type": "stream",
     "text": [
      "Thank you for entering a positive integer.\n"
     ]
    }
   ],
   "source": [
    "#Ans. 5\n",
    "while True:\n",
    "    number = int(input(\"Enter a positive integer: \"))\n",
    "    if number > 0:\n",
    "        print(\"Thank you for entering a positive integer.\")\n",
    "        break\n",
    "    else:\n",
    "        print(\"Invalid input. Please enter a positive integer.\")"
   ]
  },
  {
   "cell_type": "code",
   "execution_count": null,
   "id": "3dc7e748-af9b-465a-a317-8e75543fd0ef",
   "metadata": {},
   "outputs": [],
   "source": []
  },
  {
   "cell_type": "code",
   "execution_count": 17,
   "id": "5bae355b-2cb9-4617-a1b7-28ead6e71d9f",
   "metadata": {},
   "outputs": [
    {
     "name": "stdin",
     "output_type": "stream",
     "text": [
      "Enter the number of rows:  7\n"
     ]
    },
    {
     "name": "stdout",
     "output_type": "stream",
     "text": [
      "*\n",
      "**\n",
      "***\n",
      "****\n",
      "*****\n",
      "******\n",
      "*******\n"
     ]
    }
   ],
   "source": [
    "#Ans. 6\n",
    "\n",
    "# Diamond pattern\n",
    "n= int(input(\"Enter the number of rows: \"))\n",
    "\n",
    "for i in range(0,n):\n",
    "    for j in range(0,i+1):\n",
    "        print(\"*\",end=\"\")\n",
    "    print(\"\\r\")"
   ]
  },
  {
   "cell_type": "code",
   "execution_count": 16,
   "id": "3360e562-2b5f-4e10-bac1-1383a22084d8",
   "metadata": {},
   "outputs": [
    {
     "name": "stdin",
     "output_type": "stream",
     "text": [
      "Enter the number of rows:  11\n"
     ]
    },
    {
     "name": "stdout",
     "output_type": "stream",
     "text": [
      "          * \n",
      "         * * * \n",
      "        * * * * * \n",
      "       * * * * * * * \n",
      "      * * * * * * * * * \n",
      "     * * * * * * * * * * * \n",
      "    * * * * * * * * * * * * * \n",
      "   * * * * * * * * * * * * * * * \n",
      "  * * * * * * * * * * * * * * * * * \n",
      " * * * * * * * * * * * * * * * * * * * \n",
      "* * * * * * * * * * * * * * * * * * * * * \n",
      " * * * * * * * * * * * * * * * * * * * \n",
      "  * * * * * * * * * * * * * * * * * \n",
      "   * * * * * * * * * * * * * * * \n",
      "    * * * * * * * * * * * * * \n",
      "     * * * * * * * * * * * \n",
      "      * * * * * * * * * \n",
      "       * * * * * * * \n",
      "        * * * * * \n",
      "         * * * \n",
      "          * \n"
     ]
    }
   ],
   "source": [
    "#Ans. 6\n",
    "\n",
    "# Diamond pattern\n",
    "n = int(input(\"Enter the number of rows: \"))\n",
    "\n",
    "row = 1\n",
    "while row <= n:\n",
    "    col = 1\n",
    "    while col <= n - row:\n",
    "        print(end=\" \")\n",
    "        col += 1\n",
    "    col = 1\n",
    "    while col <= 2 * row - 1:\n",
    "        print(\"*\", end=\" \")\n",
    "        col += 1\n",
    "    print()\n",
    "    row += 1\n",
    "\n",
    "row = n - 1\n",
    "while row >= 1:\n",
    "    col = 1\n",
    "    while col <= n - row:\n",
    "        print(end=\" \")\n",
    "        col += 1\n",
    "    col = 1\n",
    "    while col <= 2 * row - 1:\n",
    "        print(\"*\", end=\" \")\n",
    "        col += 1\n",
    "    print()\n",
    "    row -= 1\n"
   ]
  },
  {
   "cell_type": "code",
   "execution_count": 18,
   "id": "41c31f2c-4a37-459d-8f9d-b0c7b9ec605d",
   "metadata": {},
   "outputs": [
    {
     "name": "stdin",
     "output_type": "stream",
     "text": [
      "Enter the number of rows:  11\n"
     ]
    },
    {
     "name": "stdout",
     "output_type": "stream",
     "text": [
      "          * \n",
      "         * * * \n",
      "        * * * * * \n",
      "       * * * * * * * \n",
      "      * * * * * * * * * \n",
      "     * * * * * * * * * * * \n",
      "    * * * * * * * * * * * * * \n",
      "   * * * * * * * * * * * * * * * \n",
      "  * * * * * * * * * * * * * * * * * \n",
      " * * * * * * * * * * * * * * * * * * * \n",
      "* * * * * * * * * * * * * * * * * * * * * \n"
     ]
    }
   ],
   "source": [
    "#Ans. 6\n",
    "\n",
    "# Pyramid pattern\n",
    "n = int(input(\"Enter the number of rows: \"))\n",
    "\n",
    "row = 1\n",
    "while row <= n:\n",
    "    col = 1\n",
    "    while col <= n - row:\n",
    "        print(end=\" \")\n",
    "        col += 1\n",
    "    col = 1\n",
    "    while col <= 2 * row - 1:\n",
    "        print(\"*\", end=\" \")\n",
    "        col += 1\n",
    "    print()\n",
    "    row += 1\n"
   ]
  },
  {
   "cell_type": "code",
   "execution_count": null,
   "id": "b66e1c96-db2c-4222-9c62-7f1b382fddda",
   "metadata": {},
   "outputs": [],
   "source": []
  },
  {
   "cell_type": "code",
   "execution_count": 24,
   "id": "c82b6183-1b28-4380-99bf-3df6665a072b",
   "metadata": {},
   "outputs": [
    {
     "name": "stdout",
     "output_type": "stream",
     "text": [
      "1\n",
      "2\n",
      "3\n",
      "4\n",
      "5\n",
      "6\n",
      "7\n",
      "8\n",
      "9\n",
      "10\n"
     ]
    }
   ],
   "source": [
    "#Ans. 8\n",
    "n = 1\n",
    "while n <= 10:\n",
    "    print(n)\n",
    "    n += 1\n"
   ]
  },
  {
   "cell_type": "code",
   "execution_count": 22,
   "id": "e97b1c4d-549d-41fe-8835-5bbe293dafac",
   "metadata": {},
   "outputs": [
    {
     "name": "stdout",
     "output_type": "stream",
     "text": [
      "10\n",
      "9\n",
      "8\n",
      "7\n",
      "6\n",
      "5\n",
      "4\n",
      "3\n",
      "2\n",
      "1\n"
     ]
    }
   ],
   "source": [
    "n = 10\n",
    "while n >= 1:\n",
    "    print(n)\n",
    "    n -= 1\n"
   ]
  },
  {
   "cell_type": "code",
   "execution_count": null,
   "id": "72327a0a-b80d-4422-9de3-498f81a2dc4e",
   "metadata": {},
   "outputs": [],
   "source": []
  }
 ],
 "metadata": {
  "kernelspec": {
   "display_name": "Python 3 (ipykernel)",
   "language": "python",
   "name": "python3"
  },
  "language_info": {
   "codemirror_mode": {
    "name": "ipython",
    "version": 3
   },
   "file_extension": ".py",
   "mimetype": "text/x-python",
   "name": "python",
   "nbconvert_exporter": "python",
   "pygments_lexer": "ipython3",
   "version": "3.10.8"
  }
 },
 "nbformat": 4,
 "nbformat_minor": 5
}
