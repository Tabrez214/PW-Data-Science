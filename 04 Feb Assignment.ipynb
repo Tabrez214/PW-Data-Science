{
 "cells": [
  {
   "cell_type": "code",
   "execution_count": null,
   "id": "9b5068cf-7556-4218-ac67-59ab19fb49ca",
   "metadata": {},
   "outputs": [],
   "source": [
    "Q1. Create a python program to sort the given list of tuples based on integer value using a lambda function."
   ]
  },
  {
   "cell_type": "code",
   "execution_count": 7,
   "id": "59f4b29a-02d9-4352-bff0-644f4dacf9cb",
   "metadata": {},
   "outputs": [],
   "source": [
    "a = [('Sachin Tendulkar', 34357), ('Ricky Ponting', 27483), ('Jack Kallis', 25534), ('Virat Kohli', 24936)]"
   ]
  },
  {
   "cell_type": "code",
   "execution_count": 9,
   "id": "5aed6a51-290b-44a6-93e4-81cb2266a5f6",
   "metadata": {},
   "outputs": [],
   "source": [
    "sort1 = sorted(a, key=lambda x: x[1])"
   ]
  },
  {
   "cell_type": "code",
   "execution_count": 10,
   "id": "eacc91ae-23b3-452d-a3d9-b7d589fb03ad",
   "metadata": {},
   "outputs": [
    {
     "data": {
      "text/plain": [
       "[('Virat Kohli', 24936),\n",
       " ('Jack Kallis', 25534),\n",
       " ('Ricky Ponting', 27483),\n",
       " ('Sachin Tendulkar', 34357)]"
      ]
     },
     "execution_count": 10,
     "metadata": {},
     "output_type": "execute_result"
    }
   ],
   "source": [
    "sort1"
   ]
  },
  {
   "cell_type": "code",
   "execution_count": 12,
   "id": "c66ba594-a429-4de5-a53a-27835c181185",
   "metadata": {},
   "outputs": [],
   "source": [
    "# From descending to ascending\n",
    "sort2 = sorted(a, key=lambda x: x[1], reverse = True)"
   ]
  },
  {
   "cell_type": "code",
   "execution_count": 13,
   "id": "d1c2f000-a846-42ba-a07b-974e400aa69e",
   "metadata": {},
   "outputs": [
    {
     "data": {
      "text/plain": [
       "[('Sachin Tendulkar', 34357),\n",
       " ('Ricky Ponting', 27483),\n",
       " ('Jack Kallis', 25534),\n",
       " ('Virat Kohli', 24936)]"
      ]
     },
     "execution_count": 13,
     "metadata": {},
     "output_type": "execute_result"
    }
   ],
   "source": [
    "sort2"
   ]
  },
  {
   "cell_type": "code",
   "execution_count": null,
   "id": "d922918c-8656-4bbf-acc7-3f17693b8fc3",
   "metadata": {},
   "outputs": [],
   "source": []
  },
  {
   "cell_type": "code",
   "execution_count": null,
   "id": "faccfe01-649c-4b95-b0c2-981cf8ad9759",
   "metadata": {},
   "outputs": [],
   "source": [
    "Q2. Write a Python Program to find the squares of all the numbers in the given list of integers using lambda and map functions.\n"
   ]
  },
  {
   "cell_type": "code",
   "execution_count": 1,
   "id": "599f97f5-d686-49d2-8522-4cdab3b57a6b",
   "metadata": {},
   "outputs": [],
   "source": [
    "x = [1, 2, 3, 4, 5, 6, 7, 8, 9, 10]"
   ]
  },
  {
   "cell_type": "code",
   "execution_count": 3,
   "id": "ac8bae1b-4b48-4c54-9311-7de2333b2d7d",
   "metadata": {},
   "outputs": [
    {
     "data": {
      "text/plain": [
       "[1, 4, 9, 16, 25, 36, 49, 64, 81, 100]"
      ]
     },
     "execution_count": 3,
     "metadata": {},
     "output_type": "execute_result"
    }
   ],
   "source": [
    "list(map(lambda a : a ** 2 , x))"
   ]
  },
  {
   "cell_type": "code",
   "execution_count": null,
   "id": "d08f956a-123a-4bce-94af-2ac0b4188101",
   "metadata": {},
   "outputs": [],
   "source": []
  },
  {
   "cell_type": "code",
   "execution_count": null,
   "id": "aaa53acd-e1f5-481d-9f6d-0b2eeb01bea0",
   "metadata": {},
   "outputs": [],
   "source": [
    "Q3. Write a python program to convert the given list of integers into a tuple of strings. Use map and\n",
    "lambda functions\n",
    "Given String: [1, 2, 3, 4, 5, 6, 7, 8, 9, 10]\n",
    "Expected output: ('1', '2', '3', '4', '5', '6', '7', '8', '9', '10')"
   ]
  },
  {
   "cell_type": "code",
   "execution_count": 4,
   "id": "1ec4f796-6cec-4402-9c94-40dca20c085c",
   "metadata": {},
   "outputs": [],
   "source": [
    "x = [1, 2, 3, 4, 5, 6, 7, 8, 9, 10]"
   ]
  },
  {
   "cell_type": "code",
   "execution_count": 6,
   "id": "9f67998f-608a-4438-b9d5-3c5b461ed7e8",
   "metadata": {},
   "outputs": [
    {
     "data": {
      "text/plain": [
       "('1', '2', '3', '4', '5', '6', '7', '8', '9', '10')"
      ]
     },
     "execution_count": 6,
     "metadata": {},
     "output_type": "execute_result"
    }
   ],
   "source": [
    "tuple(map(lambda a : str(a) , x))"
   ]
  },
  {
   "cell_type": "code",
   "execution_count": null,
   "id": "c4aaab52-44bc-4338-8898-3e3fde2718e1",
   "metadata": {},
   "outputs": [],
   "source": []
  },
  {
   "cell_type": "code",
   "execution_count": null,
   "id": "285d7c81-7d5d-41f7-9124-4232c2f76eb3",
   "metadata": {},
   "outputs": [],
   "source": [
    "Q4. Write a python program using reduce function to compute the product of a list containing numbers from 1 to 25."
   ]
  },
  {
   "cell_type": "code",
   "execution_count": 21,
   "id": "8c0b4dc3-ab59-4f2e-8582-2ace35a83af1",
   "metadata": {},
   "outputs": [],
   "source": [
    "from functools import reduce"
   ]
  },
  {
   "cell_type": "code",
   "execution_count": 22,
   "id": "bb5e5736-ee8f-4fd9-89c1-20ae34dddfed",
   "metadata": {},
   "outputs": [],
   "source": [
    "l = range(1,26)"
   ]
  },
  {
   "cell_type": "code",
   "execution_count": 28,
   "id": "a59584e3-dbef-4138-90d2-c3ce68ff44a5",
   "metadata": {},
   "outputs": [
    {
     "data": {
      "text/plain": [
       "15511210043330985984000000"
      ]
     },
     "execution_count": 28,
     "metadata": {},
     "output_type": "execute_result"
    }
   ],
   "source": [
    "reduce(lambda x,y : x*y, l)"
   ]
  },
  {
   "cell_type": "code",
   "execution_count": null,
   "id": "a9468999-23d9-4c2c-b18d-e91c59177168",
   "metadata": {},
   "outputs": [],
   "source": []
  },
  {
   "cell_type": "code",
   "execution_count": null,
   "id": "c683b641-00c4-451e-831d-2969effed3d6",
   "metadata": {},
   "outputs": [],
   "source": [
    "Q5. Write a python program to filter the numbers in a given list that are divisible by 2 and 3 using the\n",
    "filter function.\n"
   ]
  },
  {
   "cell_type": "code",
   "execution_count": 31,
   "id": "ef89f518-66fa-4548-bd68-0fb1a941aad1",
   "metadata": {},
   "outputs": [],
   "source": [
    "l = [2, 3, 6, 9, 27, 60, 90, 120, 55, 46]"
   ]
  },
  {
   "cell_type": "code",
   "execution_count": 34,
   "id": "0ce4b53b-9943-49d2-bb47-86fc4b280ce3",
   "metadata": {},
   "outputs": [
    {
     "data": {
      "text/plain": [
       "[6, 60, 90, 120]"
      ]
     },
     "execution_count": 34,
     "metadata": {},
     "output_type": "execute_result"
    }
   ],
   "source": [
    "list(filter(lambda x  : x % 2 == 0 and x % 3 == 0,l))"
   ]
  },
  {
   "cell_type": "code",
   "execution_count": null,
   "id": "612c6d6f-692d-4fe9-b05a-b2638553132d",
   "metadata": {},
   "outputs": [],
   "source": []
  },
  {
   "cell_type": "code",
   "execution_count": null,
   "id": "98743690-28ba-4a0f-9258-89a313300509",
   "metadata": {},
   "outputs": [],
   "source": [
    "Q6. Write a python program to find palindromes in the given list of strings using lambda and filter\n",
    "function.\n"
   ]
  },
  {
   "cell_type": "code",
   "execution_count": 36,
   "id": "ccc04d91-d896-4405-94f6-6dd830b14b51",
   "metadata": {},
   "outputs": [],
   "source": [
    "s = ['python', 'php', 'aba', 'radar', 'level']"
   ]
  },
  {
   "cell_type": "code",
   "execution_count": 43,
   "id": "adf342ca-d8bc-4d90-b545-4a69fa73dea4",
   "metadata": {},
   "outputs": [
    {
     "data": {
      "text/plain": [
       "['php', 'aba', 'radar', 'level']"
      ]
     },
     "execution_count": 43,
     "metadata": {},
     "output_type": "execute_result"
    }
   ],
   "source": [
    "list(filter(lambda x : x == x[::-1], s))"
   ]
  },
  {
   "cell_type": "code",
   "execution_count": null,
   "id": "1c550ee0-b9fe-4d55-9b96-4d5e63a721a9",
   "metadata": {},
   "outputs": [],
   "source": []
  }
 ],
 "metadata": {
  "kernelspec": {
   "display_name": "Python 3 (ipykernel)",
   "language": "python",
   "name": "python3"
  },
  "language_info": {
   "codemirror_mode": {
    "name": "ipython",
    "version": 3
   },
   "file_extension": ".py",
   "mimetype": "text/x-python",
   "name": "python",
   "nbconvert_exporter": "python",
   "pygments_lexer": "ipython3",
   "version": "3.10.8"
  }
 },
 "nbformat": 4,
 "nbformat_minor": 5
}
