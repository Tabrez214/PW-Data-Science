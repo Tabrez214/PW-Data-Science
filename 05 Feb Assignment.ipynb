{
 "cells": [
  {
   "cell_type": "code",
   "execution_count": null,
   "id": "b6fa11b7-e06d-4721-b5f9-7320bf2303a7",
   "metadata": {},
   "outputs": [],
   "source": [
    "Q1. Explain Class and Object with respect to Object-Oriented Programming. Give a suitable example."
   ]
  },
  {
   "cell_type": "code",
   "execution_count": null,
   "id": "9345f90b-1131-4e31-a83d-ebb3e2a099d9",
   "metadata": {},
   "outputs": [],
   "source": []
  },
  {
   "cell_type": "code",
   "execution_count": null,
   "id": "bf935c37-fec4-4eb3-a1df-5c32482d8395",
   "metadata": {},
   "outputs": [],
   "source": []
  },
  {
   "cell_type": "code",
   "execution_count": null,
   "id": "e598e776-e4a7-44ff-bfb3-b445c6e52763",
   "metadata": {},
   "outputs": [],
   "source": [
    "Q2. Name the four pillars of OOPs."
   ]
  },
  {
   "cell_type": "code",
   "execution_count": null,
   "id": "30e20c68-d3e2-4328-b7ac-70e5d8ff312d",
   "metadata": {},
   "outputs": [],
   "source": [
    "Ans. 1. Abstraction\n",
    "\t 2. Encapsulation\n",
    "     3. Inheritance\n",
    "     4. Polymorphism"
   ]
  },
  {
   "cell_type": "code",
   "execution_count": null,
   "id": "0db1f2cb-2943-4f3c-9880-e26e06c32323",
   "metadata": {},
   "outputs": [],
   "source": []
  },
  {
   "cell_type": "code",
   "execution_count": null,
   "id": "b8fdf38a-0ea8-41fa-b366-4cd1de24f822",
   "metadata": {},
   "outputs": [],
   "source": [
    "Q3. Explain why the __init__() function is used. Give a suitable example."
   ]
  },
  {
   "cell_type": "code",
   "execution_count": null,
   "id": "6d1d1888-d70f-4c44-9b1a-484bc48a9e23",
   "metadata": {},
   "outputs": [],
   "source": [
    "Ans. The __init__ function is a special method in Python classes and is automatically called when an object of the class is created.\n",
    "It is used to initialize the object's attributes when it is first created."
   ]
  },
  {
   "cell_type": "code",
   "execution_count": 16,
   "id": "2affcff5-3c1a-44f3-bf75-77d048f1fa3d",
   "metadata": {},
   "outputs": [],
   "source": [
    "\n",
    "class pwskills3:\n",
    "    def __init__(tab, phone,email,code):\n",
    "        tab.phone1 = phone\n",
    "        tab.email = email\n",
    "        tab.student_code = code\n",
    "    \n",
    "    \n",
    "    \n",
    "    def return_student_details(tab):\n",
    "        return tab.phone1, tab.email, tab.student_code\n",
    "    "
   ]
  },
  {
   "cell_type": "code",
   "execution_count": 18,
   "id": "3e4880d3-0f1f-4dc9-b715-35f2fbff9aaa",
   "metadata": {},
   "outputs": [],
   "source": [
    "tabrez = pwskills3(7021482486, \"tabrez@gmail.com\", 511)"
   ]
  },
  {
   "cell_type": "code",
   "execution_count": 20,
   "id": "8936f157-631e-455f-92f8-2030c3d6f11b",
   "metadata": {},
   "outputs": [
    {
     "data": {
      "text/plain": [
       "(7021482486, 'tabrez@gmail.com', 511)"
      ]
     },
     "execution_count": 20,
     "metadata": {},
     "output_type": "execute_result"
    }
   ],
   "source": [
    "tabrez.return_student_details()"
   ]
  },
  {
   "cell_type": "code",
   "execution_count": null,
   "id": "5abe3fba-7bb0-4828-bf7f-26247efb2625",
   "metadata": {},
   "outputs": [],
   "source": []
  },
  {
   "cell_type": "code",
   "execution_count": null,
   "id": "e5c9afcb-13f1-40f3-9a64-06824ef34742",
   "metadata": {},
   "outputs": [],
   "source": [
    "Q4. Why self is used in OOPs?"
   ]
  },
  {
   "cell_type": "code",
   "execution_count": null,
   "id": "c250f788-e228-4097-9fdf-c2ec14450917",
   "metadata": {},
   "outputs": [],
   "source": [
    "Ans. In object-oriented programming (OOP), self is a reference to the instance of the class that is calling the method. \n",
    "When a method is called on an instance of a class, self is automatically passed to the method as the first argument. \n",
    "This allows the method to access and modify the attributes and methods of the class instance."
   ]
  },
  {
   "cell_type": "code",
   "execution_count": null,
   "id": "d36b4723-da3c-43ab-9760-88bf1d7ebac2",
   "metadata": {},
   "outputs": [],
   "source": []
  },
  {
   "cell_type": "code",
   "execution_count": null,
   "id": "9433b981-e4ff-406a-997b-da41e45b231b",
   "metadata": {},
   "outputs": [],
   "source": [
    "Q5. What is inheritance? Give an example for each type of inheritance."
   ]
  },
  {
   "cell_type": "code",
   "execution_count": null,
   "id": "c2d3b794-f28f-4cce-b524-7061b613ffe7",
   "metadata": {},
   "outputs": [],
   "source": []
  },
  {
   "cell_type": "code",
   "execution_count": null,
   "id": "0804f019-4359-464d-9db4-4c645e0343f8",
   "metadata": {},
   "outputs": [],
   "source": []
  }
 ],
 "metadata": {
  "kernelspec": {
   "display_name": "Python 3 (ipykernel)",
   "language": "python",
   "name": "python3"
  },
  "language_info": {
   "codemirror_mode": {
    "name": "ipython",
    "version": 3
   },
   "file_extension": ".py",
   "mimetype": "text/x-python",
   "name": "python",
   "nbconvert_exporter": "python",
   "pygments_lexer": "ipython3",
   "version": "3.10.8"
  }
 },
 "nbformat": 4,
 "nbformat_minor": 5
}
