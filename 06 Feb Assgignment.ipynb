{
 "cells": [
  {
   "cell_type": "code",
   "execution_count": null,
   "id": "beca105f-dfa8-4a0f-b756-7b3c04a7b68b",
   "metadata": {},
   "outputs": [],
   "source": [
    "Q1. Create a function which will take a list as an argument and return the product of all the numbers\n",
    "after creating a flat list.\n",
    "Use the below-given list as an argument for your function.\n",
    "list1 = [1,2,3,4, [44,55,66, True], False, (34,56,78,89,34), {1,2,3,3,2,1}, {1:34, \"key2\": [55, 67, 78, 89], 4: (45,\n",
    "22, 61, 34)}, [56, 'data science'], 'Machine Learning']"
   ]
  },
  {
   "cell_type": "code",
   "execution_count": 1,
   "id": "a5eaf1d9-f54d-483a-bcca-05767d79e1d8",
   "metadata": {},
   "outputs": [],
   "source": [
    "def product_of_all_numbers(lst):\n",
    "    flat_list = []\n",
    "    def flatten(l):\n",
    "        for i in l:\n",
    "            if type(i) == int:\n",
    "                flat_list.append(i)\n",
    "            elif type(i) == float:\n",
    "                flat_list.append(i)\n",
    "            elif type(i) == tuple or type(i) == list:\n",
    "                flatten(i)\n",
    "            elif type(i) == dict:\n",
    "                for key, value in i.items():\n",
    "                    if type(value) == int:\n",
    "                        flat_list.append(value)\n",
    "                    elif type(value) == float:\n",
    "                        flat_list.append(value)\n",
    "                    elif type(value) == tuple or type(value) == list:\n",
    "                        flatten(value)\n",
    "    flatten(lst)\n",
    "    product = 1\n",
    "    for num in flat_list:\n",
    "        product *= num\n",
    "    return product\n"
   ]
  },
  {
   "cell_type": "code",
   "execution_count": 3,
   "id": "fa196996-7be2-4f15-a4d8-c3ff2c08a992",
   "metadata": {},
   "outputs": [
    {
     "name": "stdout",
     "output_type": "stream",
     "text": [
      "172279659957795228284743385088000\n"
     ]
    }
   ],
   "source": [
    "list1 = [1,2,3,4, [44,55,66, True], False, (34,56,78,89,34), {1,2,3,3,2,1}, {1:34, \"key2\": [55, 67, 78, 89], 4: (45,22, 61, 34)}, [56, 'data science'], 'Machine Learning']\n",
    "result = product_of_all_numbers(list1)\n",
    "print(result)"
   ]
  },
  {
   "cell_type": "code",
   "execution_count": null,
   "id": "856e5650-8a3c-4751-93c6-d96c81fd2aa6",
   "metadata": {},
   "outputs": [],
   "source": []
  },
  {
   "cell_type": "code",
   "execution_count": null,
   "id": "5744b911-f25d-4fa7-8f09-2f0b7fe6ebf4",
   "metadata": {},
   "outputs": [],
   "source": []
  }
 ],
 "metadata": {
  "kernelspec": {
   "display_name": "Python 3 (ipykernel)",
   "language": "python",
   "name": "python3"
  },
  "language_info": {
   "codemirror_mode": {
    "name": "ipython",
    "version": 3
   },
   "file_extension": ".py",
   "mimetype": "text/x-python",
   "name": "python",
   "nbconvert_exporter": "python",
   "pygments_lexer": "ipython3",
   "version": "3.10.8"
  }
 },
 "nbformat": 4,
 "nbformat_minor": 5
}
