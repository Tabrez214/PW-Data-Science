{
 "cells": [
  {
   "cell_type": "code",
   "execution_count": null,
   "id": "17924aff-f441-4c6e-a503-188b5a37073d",
   "metadata": {},
   "outputs": [],
   "source": [
    "Q1. What is Statistics?"
   ]
  },
  {
   "cell_type": "code",
   "execution_count": null,
   "id": "f48ea6fa-c9f0-48a6-bd55-f036c9619185",
   "metadata": {},
   "outputs": [],
   "source": [
    "Ans. Statistics is the science of collecting, organizing and analyzing the data. The data is facts or pieces of information"
   ]
  },
  {
   "cell_type": "code",
   "execution_count": null,
   "id": "9d7cb105-df47-46bb-b181-970a3e9b447b",
   "metadata": {},
   "outputs": [],
   "source": []
  },
  {
   "cell_type": "code",
   "execution_count": null,
   "id": "536a87b0-a81d-4a54-ba6d-5d0ba666a8d3",
   "metadata": {},
   "outputs": [],
   "source": [
    "Q2. Define the different types of statistics and give an example of when each type might be used."
   ]
  },
  {
   "cell_type": "code",
   "execution_count": null,
   "id": "fc5fbcae-cf1a-4a3b-a5dd-71c6d6e59072",
   "metadata": {},
   "outputs": [],
   "source": [
    "1) Descriptive Statistics: It consists of Organizing or Summarizing the data \n",
    "\n",
    "Measure of central tendency [ Mean, Median, Mode] \n",
    "\n",
    "Measure of Dispersion [ Variance, Std Deviation] \n",
    "\n",
    "Histogram, Bar chart, Pie diagram \n",
    "\n",
    "2) Inferential Statistics: It consists of using the data you have measured to form conclusion. \n",
    "\n",
    "Z - test \n",
    "\n",
    "T - test \n",
    "\n",
    "Data: There are 50 students in the class Having heights [ 140cm, 180cm, 175cm, 160cm, 140cm, 140cm] \n",
    "\n",
    "Descriptive Questions: \n",
    "\n",
    "What is the average heights of the students \n",
    "Ans. Sum of students height / No. Of students \n",
    "\n",
    "Find the common heights of student \n",
    "Ans. 140cm [mean] \n",
    "\n",
    "\n",
    "Inferential Questions: \n",
    "What are the average height of students in the classroom similar to what you expect in the entire college."
   ]
  },
  {
   "cell_type": "code",
   "execution_count": null,
   "id": "56a91c31-6d0a-4702-85de-6d739b6879b2",
   "metadata": {},
   "outputs": [],
   "source": []
  },
  {
   "cell_type": "code",
   "execution_count": null,
   "id": "9631770a-62f2-433f-a31a-9d0c9a8cd1cd",
   "metadata": {},
   "outputs": [],
   "source": [
    "Q3. What are the different types of data and how do they differ from each other? Provide an example of\n",
    "each type of data."
   ]
  },
  {
   "cell_type": "code",
   "execution_count": null,
   "id": "2265f982-f1da-474b-b749-ad81b015594f",
   "metadata": {},
   "outputs": [],
   "source": [
    "There are four main types of data:\n",
    "1. Nominal Scale Data \n",
    "2. Ordinal Scale Data \n",
    "3. Interval Scale Data \n",
    "4. Ratio Scale Data \n",
    "\n",
    "Nominal Data:\n",
    "Nominal data is a categorical type of data where values are assigned to different categories or labels.\n",
    "This data has no inherent order or ranking. Examples of nominal data include the color of a car, the gender of a person, \n",
    "or the type of fruit.\n",
    "\n",
    "Ordinal Data:\n",
    "Ordinal data is a type of data that is ranked in a specific order or sequence.\n",
    "This data allows for the comparison of values in terms of \"greater than\" or \"less than,\" but does not allow \n",
    "for the measurement of the distance between values. Examples of ordinal data include ratings of satisfaction, letter grades, \n",
    "or the order of finishing in a race.\n",
    "\n",
    "Interval Data:\n",
    "Interval data is a type of data that is measured on a scale with equal intervals between values.\n",
    "This data has a meaningful zero point but the ratios between values are not meaningful. \n",
    "Examples of interval data include temperature measured in Celsius or Fahrenheit, years in the calendar, or IQ scores.\n",
    "\n",
    "Ratio Data:\n",
    "Ratio data is a type of data that is measured on a scale with equal intervals between values and has a meaningful zero point. \n",
    "This data allows for the comparison of values in terms of ratios, and the distance between values is meaningful.\n",
    "Examples of ratio data include height, weight, distance, or time taken to complete a task.\n"
   ]
  },
  {
   "cell_type": "code",
   "execution_count": null,
   "id": "fc9cf141-c4e8-4ef9-879a-685f7693d874",
   "metadata": {},
   "outputs": [],
   "source": []
  },
  {
   "cell_type": "code",
   "execution_count": null,
   "id": "b4e0b836-4b58-4011-9b80-3f1817fda5f5",
   "metadata": {},
   "outputs": [],
   "source": [
    "Q4. Categorise the following datasets with respect to quantitative and qualitative data types:\n",
    "(i) Grading in exam: A+, A, B+, B, C+, C, D, E\n",
    "(ii) Colour of mangoes: yellow, green, orange, red\n",
    "(iii) Height data of a class: [178.9, 179, 179.5, 176, 177.2, 178.3, 175.8,...]\n",
    "(iv) Number of mangoes exported by a farm: [500, 600, 478, 672, ...]"
   ]
  },
  {
   "cell_type": "code",
   "execution_count": null,
   "id": "32ec033f-6fee-400d-93e4-6a2e6a39aeb0",
   "metadata": {},
   "outputs": [],
   "source": [
    "Ans (i) Qualitative\n",
    "(ii) Qualitative\n",
    "(iii) Quantitative\n",
    "(iv) Quantitative"
   ]
  },
  {
   "cell_type": "code",
   "execution_count": null,
   "id": "d2f16b9b-e729-458e-88f9-9e5eee54d98b",
   "metadata": {},
   "outputs": [],
   "source": []
  },
  {
   "cell_type": "code",
   "execution_count": null,
   "id": "f0ef8809-5f2f-4c9f-b820-23c1db468848",
   "metadata": {},
   "outputs": [],
   "source": [
    "Q5. Explain the concept of levels of measurement and give an example of a variable for each level."
   ]
  },
  {
   "cell_type": "code",
   "execution_count": null,
   "id": "312da831-150b-4927-8adf-5be55a915cb8",
   "metadata": {},
   "outputs": [],
   "source": [
    "There are four main levels of measurement: nominal, ordinal, interval, and ratio.\n",
    "\n",
    "Nominal level of measurement:\n",
    "The nominal level of measurement is the most basic level of measurement where data is classified into categories without any order or ranking.\n",
    "In this level, data can only be categorized or counted, but cannot be measured.\n",
    "Examples of variables measured at the nominal level are gender, race, or color of a car.\n",
    "\n",
    "Ordinal level of measurement:\n",
    "The ordinal level of measurement involves data that can be arranged in a specific order or ranking. \n",
    "Data at this level can be classified and ranked, but the differences between categories are not meaningful or equal.\n",
    "Examples of variables measured at the ordinal level are education level, income bracket, or grade in a test.\n",
    "\n",
    "Interval level of measurement:\n",
    "The interval level of measurement is characterized by data that is measured on a scale with equal intervals between values. \n",
    "In this level, data has a meaningful zero point, but the ratios between values are not meaningful. \n",
    "Examples of variables measured at the interval level are temperature measured in Celsius or Fahrenheit, or dates in the calendar.\n",
    "\n",
    "Ratio level of measurement:\n",
    "The ratio level of measurement is the most advanced level of measurement, characterized by data that is measured on a scale with equal intervals between values and a meaningful zero point. \n",
    "In this level, the ratios between values are meaningful and allow for more sophisticated statistical analysis. \n",
    "Examples of variables measured at the ratio level are height, weight, or age.\n",
    "\n",
    "Examples of variables for each level of measurement:\n",
    "\n",
    "Nominal level of measurement - Eye color (blue, green, brown)\n",
    "Ordinal level of measurement - Satisfaction level (very satisfied, somewhat satisfied, neutral, somewhat dissatisfied, very dissatisfied)\n",
    "Interval level of measurement - Temperature (measured in Celsius or Fahrenheit)\n",
    "Ratio level of measurement - Weight (measured in kilograms or pounds)"
   ]
  },
  {
   "cell_type": "code",
   "execution_count": null,
   "id": "44e69c28-d37a-4dc7-b46d-ae962516dca9",
   "metadata": {},
   "outputs": [],
   "source": []
  },
  {
   "cell_type": "code",
   "execution_count": null,
   "id": "a1828049-77a3-4ec0-a60d-5180a5f2c99f",
   "metadata": {},
   "outputs": [],
   "source": [
    "Q6. Why is it important to understand the level of measurement when analyzing data? Provide an\n",
    "example to illustrate your answer."
   ]
  },
  {
   "cell_type": "code",
   "execution_count": null,
   "id": "ac5b2651-7549-4466-ac41-11f22a047f0d",
   "metadata": {},
   "outputs": [],
   "source": [
    "Understanding the level of measurement is important when analyzing data because it determines the \n",
    "type of statistical analyses that can be performed on the data. \n",
    "Different levels of measurement have different properties and limitations, and require different methods of analysis.\n",
    "\n",
    "For example, if data is measured at the nominal level, it can only be categorized or counted, but not measured on a scale. \n",
    "Therefore, measures of central tendency such as mean or median cannot be calculated.\n",
    "On the other hand, if data is measured at the ratio level, ratios between values are meaningful.\n",
    "\n",
    "Therefore, understanding the level of measurement is crucial in selecting the appropriate statistical methods to analyze data, \n",
    "and in drawing valid and meaningful conclusions from the analysis."
   ]
  },
  {
   "cell_type": "code",
   "execution_count": null,
   "id": "f46da720-3847-4c02-abcc-c23085088041",
   "metadata": {},
   "outputs": [],
   "source": []
  },
  {
   "cell_type": "code",
   "execution_count": null,
   "id": "d6e98cfe-29c4-46f4-ba11-73cf08b51e68",
   "metadata": {},
   "outputs": [],
   "source": [
    "Q7. How nominal data type is different from ordinal data type."
   ]
  },
  {
   "cell_type": "code",
   "execution_count": null,
   "id": "95ec7c0e-8d82-4616-9b4b-a91ff7559a7e",
   "metadata": {},
   "outputs": [],
   "source": [
    "Nominal data and ordinal data are both types of categorical data, but they differ in terms of the level of measurement and the properties of the categories.\n",
    "\n",
    "Nominal data refers to data that is categorized into distinct groups without any inherent order or ranking.\n",
    "The categories are typically named or labeled, but there is no numerical value assigned to them.\n",
    "Examples of nominal data include gender, race, religion, or eye color. Nominal data can be counted and categorized, but it cannot be measured or compared in terms of magnitude.\n",
    "\n",
    "Ordinal data refers to data that is categorized into distinct groups that have an inherent order or ranking.\n",
    "The categories can be ranked in terms of magnitude or preference, but the differences between categories may not be equal or meaningful.\n",
    "Examples of ordinal data include education level, income bracket, or rating on a Likert scale. \n",
    "Ordinal data can be ranked and categorized, but it cannot be measured on a continuous scale or compared in terms of exact differences."
   ]
  },
  {
   "cell_type": "code",
   "execution_count": null,
   "id": "8e4ab5f1-7e4e-4b5f-a213-b9b09ee7db74",
   "metadata": {},
   "outputs": [],
   "source": []
  },
  {
   "cell_type": "code",
   "execution_count": null,
   "id": "bb12c4a6-1a1c-4034-9e6b-a123d2b543c1",
   "metadata": {},
   "outputs": [],
   "source": [
    "Q9. Describe the difference between descriptive and inferential statistics. Give an example of each\n",
    "type of statistics and explain how they are used."
   ]
  },
  {
   "cell_type": "code",
   "execution_count": null,
   "id": "17bbccb9-2d29-412d-a27e-7790b714f783",
   "metadata": {},
   "outputs": [],
   "source": [
    "1) Descriptive Statistics: It consists of Organizing or Summarizing the data \n",
    "\n",
    "Measure of central tendency [ Mean, Median, Mode] \n",
    "\n",
    "Measure of Dispersion [ Variance, Std Deviation] \n",
    "\n",
    "Histogram, Bar chart, Pie diagram \n",
    "\n",
    "2) Inferential Statistics: It consists of using the data you have measured to form conclusion. \n",
    "\n",
    "Z - test \n",
    "\n",
    "T - test \n",
    "\n",
    "Data: There are 50 students in the class Having heights [ 140cm, 180cm, 175cm, 160cm, 140cm, 140cm] \n",
    "\n",
    "Descriptive Questions: \n",
    "\n",
    "What is the average heights of the students \n",
    "Ans. Sum of students height / No. Of students \n",
    "\n",
    "Find the common heights of student \n",
    "Ans. 140cm [mean] \n",
    "\n",
    "\n",
    "Inferential Questions: \n",
    "What are the average height of students in the classroom similar to what you expect in the entire college.\n",
    "\n",
    "descriptive statistics is used to summarize and describe the characteristics of a sample\n",
    "inferential statistics is used to make predictions and draw conclusions about a larger population based on a sample of data."
   ]
  },
  {
   "cell_type": "code",
   "execution_count": null,
   "id": "bb8e8c77-f361-48f6-9c82-3aa1a5208330",
   "metadata": {},
   "outputs": [],
   "source": []
  },
  {
   "cell_type": "code",
   "execution_count": null,
   "id": "e66502b7-9402-443d-8596-66be6b1eb6ba",
   "metadata": {},
   "outputs": [],
   "source": [
    "Q10. What are some common measures of central tendency and variability used in statistics? Explain\n",
    "how each measure can be used to describe a dataset."
   ]
  },
  {
   "cell_type": "code",
   "execution_count": null,
   "id": "b9eecd40-8dee-40f6-966e-d48cfa3eb685",
   "metadata": {},
   "outputs": [],
   "source": [
    "Common measures of central tendency include:\n",
    "\n",
    "Mean: The mean is the arithmetic average of a set of numbers. It is calculated by summing all the values in the dataset \n",
    "and dividing by the total number of values. The mean is used to describe the central value or typical value of a dataset.\n",
    "\n",
    "Median: The median is the middle value in a set of numbers when they are arranged in order. \n",
    "It is used to describe the central value when the dataset has extreme values or outliers that may distort the mean.\n",
    "\n",
    "Mode: The mode is the value that appears most frequently in a dataset. It is used to describe the most common value in a dataset.\n",
    "\n",
    "Common measures of variability include:\n",
    "\n",
    "Variance: The variance measures how much the values in a dataset differ from the mean. \n",
    "It is calculated by subtracting each value from the mean, squaring the difference, and dividing by the number of values. \n",
    "It is used to describe the spread of values in the dataset.\n",
    "\n",
    "Standard deviation: The standard deviation is the square root of the variance. \n",
    "It is used to describe the spread of values in the dataset in the same units as the mean."
   ]
  }
 ],
 "metadata": {
  "kernelspec": {
   "display_name": "Python 3 (ipykernel)",
   "language": "python",
   "name": "python3"
  },
  "language_info": {
   "codemirror_mode": {
    "name": "ipython",
    "version": 3
   },
   "file_extension": ".py",
   "mimetype": "text/x-python",
   "name": "python",
   "nbconvert_exporter": "python",
   "pygments_lexer": "ipython3",
   "version": "3.10.8"
  }
 },
 "nbformat": 4,
 "nbformat_minor": 5
}
