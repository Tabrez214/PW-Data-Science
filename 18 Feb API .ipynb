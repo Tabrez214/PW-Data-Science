{
 "cells": [
  {
   "cell_type": "code",
   "execution_count": null,
   "id": "b1b5448f-4df2-4400-9f6f-e83691405129",
   "metadata": {},
   "outputs": [],
   "source": [
    "Q1. What is an API? Give an example, where an API is used in real life."
   ]
  },
  {
   "cell_type": "code",
   "execution_count": null,
   "id": "b97c774f-9aa3-4c6f-9593-4c30a5646084",
   "metadata": {},
   "outputs": [],
   "source": [
    "An API, is a set of protocols, tools, and standards for building software applications.\n",
    "An API defines how different software components should interact with each other and enables communication between different software systems."
   ]
  },
  {
   "cell_type": "code",
   "execution_count": null,
   "id": "534b8978-e0e3-46a1-9d00-6691bbcebd6b",
   "metadata": {},
   "outputs": [],
   "source": []
  },
  {
   "cell_type": "code",
   "execution_count": null,
   "id": "7d875313-c79a-496d-9a57-a48e48ae5d2a",
   "metadata": {},
   "outputs": [],
   "source": [
    "Q2. Give advantages and disadvantages of using API."
   ]
  },
  {
   "cell_type": "code",
   "execution_count": null,
   "id": "721f46c8-7629-42b9-9545-7c5bdb9ce7a2",
   "metadata": {},
   "outputs": [],
   "source": [
    "Advantages of using API:\n",
    "\n",
    "1. Improved efficiency: APIs can simplify complex tasks and allow for more efficient communication between different software systems.\n",
    "\n",
    "2. Easier integration: APIs provide a standardized way for different applications to exchange information, making it easier to integrate different systems and data sources.\n",
    "\n",
    "3. Increased functionality: APIs can provide access to additional features and data that may not be available in an application or system."
   ]
  },
  {
   "cell_type": "code",
   "execution_count": null,
   "id": "b6a16675-2b72-433f-9fd8-dcb2ae7ae8ae",
   "metadata": {},
   "outputs": [],
   "source": []
  },
  {
   "cell_type": "code",
   "execution_count": null,
   "id": "a240f626-7329-428d-8834-9e02c95b18cc",
   "metadata": {},
   "outputs": [],
   "source": [
    "Q3. What is a Web API? Differentiate between API and Web API."
   ]
  },
  {
   "cell_type": "code",
   "execution_count": null,
   "id": "c4bfaeaf-86a0-4daa-9c85-d9fb4816a556",
   "metadata": {},
   "outputs": [],
   "source": [
    "A Web API, also known as a Web Service, is an API that is designed specifically for use over the internet through a web server. \n",
    "Web APIs use HTTP to communicate and exchange data between different software applications and systems. A Web API can be used to access web-based services, databases, and other resources over the internet.\n",
    "\n",
    "API, on the other hand, is a broader term that refers to any set of protocols, tools, and standards for building software applications that interact with each other. \n",
    "While a Web API is a type of API, not all APIs are Web APIs. APIs can be used for many different types of applications and systems, including desktop applications, mobile apps, and IoT devices.\n",
    "\n",
    "Here are some key differences between API and Web API:\n",
    "\n",
    "1. Delivery method: APIs can be delivered in many different ways, such as libraries, SDKs (Software Development Kits), and command-line tools, while Web APIs are delivered over the internet through a web server.\n",
    "\n",
    "2. Communication protocol: APIs can use different communication protocols, such as TCP/IP (Transmission Control Protocol/Internet Protocol), while Web APIs use HTTP (Hypertext Transfer Protocol) for communication.\n",
    "\n",
    "3. Usage: APIs can be used for a variety of applications and systems, while Web APIs are specifically designed for use over the internet.\n",
    "\n",
    "4. Accessible data: APIs can provide access to data and functionality on a local machine or network, while Web APIs can provide access to data and functionality over the internet."
   ]
  },
  {
   "cell_type": "code",
   "execution_count": null,
   "id": "dd1bfa85-310d-4bfc-a46b-153bbbf57c87",
   "metadata": {},
   "outputs": [],
   "source": []
  },
  {
   "cell_type": "code",
   "execution_count": null,
   "id": "c1f898da-e8aa-44f9-ba5b-668dc3b91e46",
   "metadata": {},
   "outputs": [],
   "source": [
    "Q4. Explain REST and SOAP Architecture. Mention shortcomings of SOAP."
   ]
  },
  {
   "cell_type": "code",
   "execution_count": null,
   "id": "cc096b47-efed-4dd4-b438-0ca4ddca35f5",
   "metadata": {},
   "outputs": [],
   "source": [
    "REST and SOAP are two commonly used architectures for building web services.\n",
    "\n",
    "REST (Representational State Transfer) is an architectural style that uses a set of principles for building web services that are lightweight, flexible, \n",
    "and scalable. REST uses HTTP methods (GET, POST, PUT, DELETE, etc.) to access and manipulate resources identified by URIs (Uniform Resource Identifiers). \n",
    "RESTful APIs are easy to understand and can be implemented using a variety of programming languages and frameworks.\n",
    "\n",
    "SOAP (Simple Object Access Protocol) is an XML-based messaging protocol that is used for exchanging structured data between different software systems. \n",
    "SOAP is a more complex architecture than REST and uses a set of standards and specifications for communication, such as WSDL (Web Services Description Language) \n",
    "and UDDI (Universal Description, Discovery, and Integration). SOAP services can provide more advanced security features and transactional support than RESTful APIs\n",
    "\n",
    "Shortcomings of SOAP:\n",
    "\n",
    "1. Complexity: SOAP is more complex than REST and requires additional development resources to properly implement and maintain.\n",
    "\n",
    "2. Performance: SOAP can be slower than REST because of the additional overhead required for XML parsing and message processing.\n",
    "\n",
    "3. Limited compatibility: SOAP may not be compatible with all systems and programming languages, which can make integration more difficult."
   ]
  },
  {
   "cell_type": "code",
   "execution_count": null,
   "id": "500c04bf-b1b7-4073-8648-50f73a5e33b2",
   "metadata": {},
   "outputs": [],
   "source": []
  },
  {
   "cell_type": "code",
   "execution_count": null,
   "id": "e6fcbbdd-b06f-4a56-af20-b52cc61fc13a",
   "metadata": {},
   "outputs": [],
   "source": [
    "Q5. Differentiate between REST and SOAP."
   ]
  },
  {
   "cell_type": "code",
   "execution_count": null,
   "id": "fcb33eb4-e211-4a82-b981-a8f3b9f45823",
   "metadata": {},
   "outputs": [],
   "source": [
    "REST (Representational State Transfer) and SOAP (Simple Object Access Protocol) are two widely used architectures for building web services. Here are some key differences between the two:\n",
    "\n",
    "1. Protocol: REST is an architectural style that uses HTTP (Hypertext Transfer Protocol) to exchange data between different software systems, \n",
    "while SOAP is an XML-based messaging protocol that uses a variety of protocols, including HTTP, SMTP, and TCP.\n",
    "\n",
    "2. Payload: RESTful APIs use lightweight payloads such as JSON (JavaScript Object Notation) or XML (Extensible Markup Language) for data exchange, \n",
    "while SOAP uses XML for data exchange, which can make it more verbose and slower.\n",
    "\n",
    "3. Complexity: REST is a simpler architecture than SOAP and is easy to understand and implement, while SOAP is more complex and requires more development resources to properly implement and maintain."
   ]
  }
 ],
 "metadata": {
  "kernelspec": {
   "display_name": "Python 3 (ipykernel)",
   "language": "python",
   "name": "python3"
  },
  "language_info": {
   "codemirror_mode": {
    "name": "ipython",
    "version": 3
   },
   "file_extension": ".py",
   "mimetype": "text/x-python",
   "name": "python",
   "nbconvert_exporter": "python",
   "pygments_lexer": "ipython3",
   "version": "3.10.8"
  }
 },
 "nbformat": 4,
 "nbformat_minor": 5
}
